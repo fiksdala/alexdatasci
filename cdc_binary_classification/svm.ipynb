{
 "cells": [
  {
   "cell_type": "markdown",
   "metadata": {},
   "source": [
    "## Part 2: SVM\n",
    "\n",
    "This is part 2 of my Binary Classification Comparison project. In my last post, I created an XGBoost model to predict history of high blood pressure using the CDC's <a href=\"https://www.cdc.gov/brfss/annual_data/annual_2017.html\" target=\"_blank\">2017 Behavioral Risk Factor Surveillance System dataset</a>. Now I'll train a support vector machine to accomplish the same task. Given that the number of observations >> the number of predictors and that our features are not not very discriminative, I'm not expecting performance to be all that different than the XGBoost model. Still, it's a fun exercise.\n",
    "\n",
    "## Model specification\n",
    "\n",
    "Given that n is quite large, using a gaussian or similar kernels isn't really an option, so we're left with using linear SVM (LinearSVC in sklearn).\n",
    "\n",
    "Given the nature of the data and the train/validation performance of XGBoost, I'm not anticipating a lot of issues with overfitting. We'll still try out a few values of C to optimize the algorithm as best we can. Again, I could use k-fold cross validation with GridSearch from sklearn, but for simplicity I'm just going to use the same validation set as last time and code it myself."
   ]
  },
  {
   "cell_type": "code",
   "execution_count": 1,
   "metadata": {},
   "outputs": [],
   "source": [
    "# Import train/val\n",
    "import pickle\n",
    "import numpy as np\n",
    "import pandas as pd\n",
    "from sklearn.metrics import confusion_matrix, classification_report\n",
    "from sklearn.metrics import accuracy_score, log_loss\n",
    "from sklearn.svm import LinearSVC\n",
    "from matplotlib import pyplot as plt\n",
    "\n",
    "x_train = pickle.load( open( \"x_train.pickle\", \"rb\" ) )\n",
    "x_val = pickle.load( open( \"x_val.pickle\", \"rb\" ) )\n",
    "y_train = pickle.load( open( \"y_train.pickle\", \"rb\" ) )\n",
    "y_val = pickle.load( open( \"y_val.pickle\", \"rb\" ) )\n",
    "# Variables (selected previously)\n",
    "keep_vars10 = pickle.load( open( \"keep_vars10.pickle\", \"rb\" ) )\n",
    "\n",
    "# Make list of C values\n",
    "c_vals = [10**float(i) for i in np.arange(-4,3)]\n",
    "\n",
    "# Save models by C value\n",
    "m_list = []\n",
    "for i in c_vals:\n",
    "    m_list.append(LinearSVC(C=i,dual=False).fit(x_train[keep_vars10],y_train))"
   ]
  },
  {
   "cell_type": "code",
   "execution_count": 2,
   "metadata": {},
   "outputs": [
    {
     "data": {
      "image/png": "[encoded data removed]",
      "text/plain": [
       "<Figure size 432x288 with 1 Axes>"
      ]
     },
     "metadata": {
      "needs_background": "light"
     },
     "output_type": "display_data"
    },
    {
     "data": {
      "image/png": "[encoded data removed]",
      "text/plain": [
       "<Figure size 432x288 with 1 Axes>"
      ]
     },
     "metadata": {
      "needs_background": "light"
     },
     "output_type": "display_data"
    }
   ],
   "source": [
    "plt.plot([str(i) for i in c_vals],\n",
    "        [log_loss(y_train,i.predict(x_train[keep_vars10])) \\\n",
    "        for i in m_list])\n",
    "plt.plot([str(i) for i in c_vals],\n",
    "        [log_loss(y_val,i.predict(x_val[keep_vars10])) \\\n",
    "        for i in m_list])\n",
    "plt.title(label='log loss by max_depth')\n",
    "plt.legend(['Train', 'Val'])\n",
    "plt.show()\n",
    "\n",
    "plt.plot([str(i) for i in c_vals],\n",
    "        [1-accuracy_score(y_train,i.predict(x_train[keep_vars10])) \\\n",
    "        for i in m_list])\n",
    "plt.plot([str(i) for i in c_vals],\n",
    "        [1-accuracy_score(y_val,i.predict(x_val[keep_vars10])) \\\n",
    "        for i in m_list])\n",
    "plt.title(label='Error by max_depth')\n",
    "plt.legend(['Train', 'Val'])\n",
    "plt.show()"
   ]
  },
  {
   "cell_type": "markdown",
   "metadata": {},
   "source": [
    "As expected, C doesn't affect performance much. But it looks (very) marginally better at .001. Let's take a look at precision/recall for that model."
   ]
  },
  {
   "cell_type": "code",
   "execution_count": 3,
   "metadata": {},
   "outputs": [
    {
     "name": "stdout",
     "output_type": "stream",
     "text": [
      "Train\n",
      "[[123233  34199]\n",
      " [ 42526  65287]]\n",
      "              precision    recall  f1-score   support\n",
      "\n",
      "         0.0       0.74      0.78      0.76    157432\n",
      "         1.0       0.66      0.61      0.63    107813\n",
      "\n",
      "   micro avg       0.71      0.71      0.71    265245\n",
      "   macro avg       0.70      0.69      0.70    265245\n",
      "weighted avg       0.71      0.71      0.71    265245\n",
      "\n",
      "Validation\n",
      "[[30657  8674]\n",
      " [10702 16279]]\n",
      "              precision    recall  f1-score   support\n",
      "\n",
      "         0.0       0.74      0.78      0.76     39331\n",
      "         1.0       0.65      0.60      0.63     26981\n",
      "\n",
      "   micro avg       0.71      0.71      0.71     66312\n",
      "   macro avg       0.70      0.69      0.69     66312\n",
      "weighted avg       0.71      0.71      0.71     66312\n",
      "\n"
     ]
    }
   ],
   "source": [
    "print('Train')\n",
    "print(confusion_matrix(y_train,m_list[1].predict(x_train[keep_vars10])))\n",
    "print(classification_report(y_train,m_list[1].predict(x_train[keep_vars10])))\n",
    "\n",
    "print('Validation')\n",
    "print(confusion_matrix(y_val,m_list[1].predict(x_val[keep_vars10])))\n",
    "print(classification_report(y_val,m_list[1].predict(x_val[keep_vars10])))"
   ]
  },
  {
   "cell_type": "markdown",
   "metadata": {},
   "source": [
    "This model doesn't take the imbalance into account. Just like with the XGBoost model, I'll specify the appropriate weight and see how that changes performance."
   ]
  },
  {
   "cell_type": "code",
   "execution_count": 5,
   "metadata": {},
   "outputs": [
    {
     "name": "stdout",
     "output_type": "stream",
     "text": [
      "Train\n",
      "[[104288  53144]\n",
      " [ 25925  81888]]\n",
      "              precision    recall  f1-score   support\n",
      "\n",
      "         0.0       0.80      0.66      0.73    157432\n",
      "         1.0       0.61      0.76      0.67    107813\n",
      "\n",
      "   micro avg       0.70      0.70      0.70    265245\n",
      "   macro avg       0.70      0.71      0.70    265245\n",
      "weighted avg       0.72      0.70      0.70    265245\n",
      "\n",
      "Validation\n",
      "[[25859 13472]\n",
      " [ 6535 20446]]\n",
      "              precision    recall  f1-score   support\n",
      "\n",
      "         0.0       0.80      0.66      0.72     39331\n",
      "         1.0       0.60      0.76      0.67     26981\n",
      "\n",
      "   micro avg       0.70      0.70      0.70     66312\n",
      "   macro avg       0.70      0.71      0.70     66312\n",
      "weighted avg       0.72      0.70      0.70     66312\n",
      "\n"
     ]
    }
   ],
   "source": [
    "svc_bal = LinearSVC(C=.001,dual=False,\n",
    "                    class_weight={1.0:sum(y_train==0)/sum(y_train==1)})\n",
    "svc_bal.fit(x_train[keep_vars10],y_train)\n",
    "\n",
    "print('Train')\n",
    "print(confusion_matrix(y_train,svc_bal.predict(x_train[keep_vars10])))\n",
    "print(classification_report(y_train,svc_bal.predict(x_train[keep_vars10])))\n",
    "\n",
    "print('Validation')\n",
    "print(confusion_matrix(y_val,svc_bal.predict(x_val[keep_vars10])))\n",
    "print(classification_report(y_val,svc_bal.predict(x_val[keep_vars10])))"
   ]
  },
  {
   "cell_type": "markdown",
   "metadata": {},
   "source": [
    "We see a similar precision/recall tradeoff that we observed with the XGBoost models with and without accounting for class weights. Overall, the performance was very similar to XGBoost. While precision isn't stellar, 76% recall isn't too bad. I'll save both models to add to the comparisons with the test sets later on. Up next, I'll train a simple logistic regression model."
   ]
  },
  {
   "cell_type": "code",
   "execution_count": 6,
   "metadata": {},
   "outputs": [],
   "source": [
    "pickle.dump(m_list[1], open('svc_unbal.pickle', 'wb'))\n",
    "pickle.dump(svc_bal, open('svc_bal.pickle', 'wb'))"
   ]
  }
 ],
 "metadata": {
  "kernelspec": {
   "display_name": "Python 3",
   "language": "python",
   "name": "python3"
  },
  "language_info": {
   "codemirror_mode": {
    "name": "ipython",
    "version": 3
   },
   "file_extension": ".py",
   "mimetype": "text/x-python",
   "name": "python",
   "nbconvert_exporter": "python",
   "pygments_lexer": "ipython3",
   "version": "3.6.8"
  }
 },
 "nbformat": 4,
 "nbformat_minor": 2
}

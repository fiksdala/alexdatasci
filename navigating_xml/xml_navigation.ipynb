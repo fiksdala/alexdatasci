{
 "cells": [
  {
   "cell_type": "markdown",
   "metadata": {},
   "source": [
    "__Table of Contents__\n",
    "\n",
    "[Introduction](#intro)  \n",
    "[Read in XML](#read_in_xml)  \n",
    "[Explore the structure](#explore)  \n",
    "[Extract information](#extract)  \n",
    "[Make a function](#function)  \n",
    "[Summary](#summary)  "
   ]
  },
  {
   "cell_type": "markdown",
   "metadata": {},
   "source": [
    "<a id=\"intro\"></a>\n",
    "# Introduction\n",
    "\n",
    "I'm working on coming up with an SVM classification project to post, and have been looking around for interesting, publicly available datasets to use. I've been considering looking at data from the Midlife in the United States Longitudinal Study (<a href=\"http://midus.wisc.edu/\" target=\"_blank\">MIDUS</a>)&ast;. This is a large dataset that is well-known in Social Psychology. It has the benefit of a large number of variables (>2000), but with that comes the challenge of sorting out what's actually included and what variables of interest you want to examine. This is always challenging with large datasets, since the variable names often take a form that are not super intuitive (e.g. X1, X2 ... X2000). The Inter-university Consortium for Political and Social Research hosts the data, and you could use their <a href=\"https://www.icpsr.umich.edu/icpsrweb/ICPSR/studies/2760/variables\" target=\"_blank\">website</a> to explore variables and search by keyword. When you download the data, there are also PDF files that summarize variables as well. These approaches are fine if you have a good idea of what you're looking for and the goal is not to automate any part of the analysis process, but it would be much easier and more convenient if you could incorporate this process in Python. This is where XML comes into play. Luckily, in addition to ICPSR website and PDF files, you can find an XML file that summarizes the data <a href=\"https://midus1-project1.ssc.wisc.edu/\" target=\"_blank\">here</a>. I'll use that file and Python's xml.etree.ElementTree module to write a function that will return variable names and details based on a search term.\n",
    "\n",
    "&ast;MIDUS data is available to the public, but you must register first and agree to some very reasonable terms of use.  \n",
    "\n",
    "__Resources__\n",
    "\n",
    "I don't work with XML every day, so had to do a little searching to figure out how it works. If you're not familiar, I recommend you start by looking through the Python <a href=\"https://docs.python.org/3/library/xml.etree.elementtree.html#module-xml.etree.ElementTree\" target=\"_blank\">documentation</a> on ElementTree first. I also found Charles Severence's introduction <a href=\"https://www.youtube.com/watch?v=3OnGNUPxlho\" target=\"_blank\">video</a> helpful.\n",
    "\n",
    "<a id=\"read_in_xml\"></a>\n",
    "# Read in XML\n",
    "\n",
    "I'm not going to print out the XML file itself here, but I found it helpful to open it up in a text editor to get an idea of what's included and the structure of it. Once I did that, I figured out that I'm most interested in the dataDscr element, which also includes variable names, labels, and the text of the question itself (if applicable). Without actually printing the document, the basic structure of the stuff under dataDscr I'm really interested in looks something like this (though there's a ton more under \"var\" and other nodes that could be of interest):\n",
    "\n",
    "`<var name=\"name\">\n",
    "    <labl>\"label\"</labl>\n",
    "    <qstn>\n",
    "        <qstnLit>\"question text\"</qstnLit>\n",
    "    </qstn>\n",
    " </var>`\n",
    "\n",
    "In order to access all that information, first I'll read in the XML file confirm things are in order by printing the elements of the root."
   ]
  },
  {
   "cell_type": "code",
   "execution_count": 1,
   "metadata": {},
   "outputs": [
    {
     "name": "stdout",
     "output_type": "stream",
     "text": [
      "<Element 'docDscr' at 0x1117769a8>\n",
      "<Element 'stdyDscr' at 0x11fdbfd18>\n",
      "<Element 'fileDscr' at 0x11fe37ae8>\n",
      "<Element 'dataDscr' at 0x11fe37bd8>\n"
     ]
    }
   ],
   "source": [
    "import pandas as pd\n",
    "import numpy as np\n",
    "import xml.etree.ElementTree as ET\n",
    "tree = ET.parse('/Users/alex/Documents/alexdatasci/data_files/MIDUS_1/m1-p1-merged.ddi2.xml')\n",
    "root = tree.getroot()\n",
    "for i in root:\n",
    "    print(i)"
   ]
  },
  {
   "cell_type": "markdown",
   "metadata": {},
   "source": [
    "<a id=\"explore\"></a>\n",
    "# Explore the structure\n",
    "\n",
    "The goal here is to be able to search through the text of the variable descriptions and questions for relevant words, and then return that information. This is where Python list comprehension comes in handy. For example, I can create a list of all of the variable descriptions:"
   ]
  },
  {
   "cell_type": "code",
   "execution_count": 2,
   "metadata": {},
   "outputs": [
    {
     "data": {
      "text/plain": [
       "['MIDUS 2 ID number',\n",
       " 'MIDUS 2 Family number',\n",
       " 'Major sample identification (aka Sample)',\n",
       " 'Completion status of M1 respondents']"
      ]
     },
     "execution_count": 2,
     "metadata": {},
     "output_type": "execute_result"
    }
   ],
   "source": [
    "var_desc = [i.find('labl').text for i in root.findall('dataDscr/var')]\n",
    "var_desc[0:4] # Show the first 5"
   ]
  },
  {
   "cell_type": "markdown",
   "metadata": {},
   "source": [
    "I can do the same for the questions that participants actually answered:"
   ]
  },
  {
   "cell_type": "code",
   "execution_count": 3,
   "metadata": {},
   "outputs": [
    {
     "data": {
      "text/plain": [
       "['In general, would you say your PHYSICAL HEALTH is excellent, very good, good, fair, or poor?',\n",
       " 'What about your MENTAL OR EMOTIONAL HEALTH? (Would you say your MENTAL OR EMOTIONAL HEALTH is excellent, very good, good, fair, or poor?)',\n",
       " 'In general, compared to most men/women your age, would you say your health is much better, somewhat better, about the same, somewhat worse, or much worse?',\n",
       " 'In the past 30 days, how many days were you TOTALLY UNABLE to go to work or carry out your normal household work activities because of your physical health or mental health?',\n",
       " 'Was that due to your physical health, your mental health, or a combination of both?']"
      ]
     },
     "execution_count": 3,
     "metadata": {},
     "output_type": "execute_result"
    }
   ],
   "source": [
    "var_questions = [i.text for i in root.findall('dataDscr/var/qstn/qstnLit')]\n",
    "var_questions[0:5] # Show the first 5"
   ]
  },
  {
   "cell_type": "markdown",
   "metadata": {},
   "source": [
    "<a id=\"extract\"></a>\n",
    "# Extract information\n",
    "\n",
    "Now that I can access the information, I'll have to come up with a way to extract what I want efficiently. One simple approach could be to just create a simple dataframe that consists of variable names, labels, and questions. This gets a little complicated though, since not all variables have questions, and my previous approach only returns values that exist. We can confirm that by looking at the lengths:"
   ]
  },
  {
   "cell_type": "code",
   "execution_count": 4,
   "metadata": {},
   "outputs": [
    {
     "name": "stdout",
     "output_type": "stream",
     "text": [
      "2095\n",
      "1405\n"
     ]
    }
   ],
   "source": [
    "print(len(var_desc))\n",
    "print(len(var_questions))"
   ]
  },
  {
   "cell_type": "markdown",
   "metadata": {},
   "source": [
    "We can solve that by using the \"find\" method with some more list comprehension. First I'll extract the questions, whether they exist or not, for all variables. Then I'll replace the missing values with an actual value."
   ]
  },
  {
   "cell_type": "code",
   "execution_count": 5,
   "metadata": {},
   "outputs": [
    {
     "name": "stdout",
     "output_type": "stream",
     "text": [
      "['None', 'None', 'None', 'None']\n",
      "['In general, would you say your PHYSICAL HEALTH is excellent, very good, good, fair, or poor?', 'What about your MENTAL OR EMOTIONAL HEALTH? (Would you say your MENTAL OR EMOTIONAL HEALTH is excellent, very good, good, fair, or poor?)', 'In general, compared to most men/women your age, would you say your health is much better, somewhat better, about the same, somewhat worse, or much worse?', 'In the past 30 days, how many days were you TOTALLY UNABLE to go to work or carry out your normal household work activities because of your physical health or mental health?', 'Was that due to your physical health, your mental health, or a combination of both?']\n"
     ]
    }
   ],
   "source": [
    "var_questions = ['None' if i.find('qstn/qstnLit')\n",
    "                 is None else i.find('qstn/qstnLit').text \n",
    "                 for i in root.findall('dataDscr/var')]\n",
    "print(var_questions[0:4]) # Print first 5\n",
    "print([i for i in var_questions if i != 'None'][0:5]) # Print first 5 that are not none"
   ]
  },
  {
   "cell_type": "markdown",
   "metadata": {},
   "source": [
    "With this approach, you could pretty easily just make a dataframe of variable names, labels, and questions. You could then search that df for keywords. Alternatively, you could also skip that step and write a function that searches the XML file directly for what you want. That's what I'll do here. The goal is to write a function that takes a string, checks if that string is in in the variable label, then returns a dataframe containing the variable name, label, and associated question (if it has one).\n",
    "\n",
    "<a id=\"function\"></a>\n",
    "# Make a function\n",
    "\n",
    "First I'll test some of the basic concepts the function will requires. How can I use list comprehension to return a dataframe with all variable names, labels, and questions for variables that have the word 'heart' in the label?"
   ]
  },
  {
   "cell_type": "code",
   "execution_count": 6,
   "metadata": {},
   "outputs": [
    {
     "data": {
      "text/html": [
       "<div>\n",
       "<style scoped>\n",
       "    .dataframe tbody tr th:only-of-type {\n",
       "        vertical-align: middle;\n",
       "    }\n",
       "\n",
       "    .dataframe tbody tr th {\n",
       "        vertical-align: top;\n",
       "    }\n",
       "\n",
       "    .dataframe thead th {\n",
       "        text-align: right;\n",
       "    }\n",
       "</style>\n",
       "<table border=\"1\" class=\"dataframe\">\n",
       "  <thead>\n",
       "    <tr style=\"text-align: right;\">\n",
       "      <th></th>\n",
       "      <th>Variable</th>\n",
       "      <th>Description</th>\n",
       "      <th>Question</th>\n",
       "    </tr>\n",
       "  </thead>\n",
       "  <tbody>\n",
       "    <tr>\n",
       "      <th>0</th>\n",
       "      <td>A1PA11</td>\n",
       "      <td>Heart problems ever</td>\n",
       "      <td>Have you ever had heart trouble suspected or c...</td>\n",
       "    </tr>\n",
       "    <tr>\n",
       "      <th>1</th>\n",
       "      <td>A1PA11A</td>\n",
       "      <td>Age of heart problem</td>\n",
       "      <td>How old were you when a doctor first told you ...</td>\n",
       "    </tr>\n",
       "    <tr>\n",
       "      <th>2</th>\n",
       "      <td>A1PA11BA</td>\n",
       "      <td>Heart attack</td>\n",
       "      <td>What was the diagnosis - HEART ATTACK?</td>\n",
       "    </tr>\n",
       "    <tr>\n",
       "      <th>3</th>\n",
       "      <td>A1PA11BE</td>\n",
       "      <td>Hole in heart/atrial septal dfct</td>\n",
       "      <td>What was the diagnosis - HOLE IN HEART, ATRIAL...</td>\n",
       "    </tr>\n",
       "    <tr>\n",
       "      <th>4</th>\n",
       "      <td>A1PA11BG</td>\n",
       "      <td>Irregular/fast heart beat/arrhyt</td>\n",
       "      <td>What was the diagnosis - IRREGULAR/FAST HEART ...</td>\n",
       "    </tr>\n",
       "  </tbody>\n",
       "</table>\n",
       "</div>"
      ],
      "text/plain": [
       "   Variable                       Description  \\\n",
       "0    A1PA11               Heart problems ever   \n",
       "1   A1PA11A              Age of heart problem   \n",
       "2  A1PA11BA                      Heart attack   \n",
       "3  A1PA11BE  Hole in heart/atrial septal dfct   \n",
       "4  A1PA11BG  Irregular/fast heart beat/arrhyt   \n",
       "\n",
       "                                            Question  \n",
       "0  Have you ever had heart trouble suspected or c...  \n",
       "1  How old were you when a doctor first told you ...  \n",
       "2             What was the diagnosis - HEART ATTACK?  \n",
       "3  What was the diagnosis - HOLE IN HEART, ATRIAL...  \n",
       "4  What was the diagnosis - IRREGULAR/FAST HEART ...  "
      ]
     },
     "execution_count": 6,
     "metadata": {},
     "output_type": "execute_result"
    }
   ],
   "source": [
    "heartvars = [i.attrib['name']\n",
    "             for i in root.findall('dataDscr/var')\n",
    "             if 'heart' in i.find('labl').text.lower() ]\n",
    "\n",
    "heartvars_desc = [i.find('labl').text \n",
    "                  for i in root.findall('dataDscr/var')\n",
    "                 if 'heart' in i.find('labl').text.lower() ]\n",
    "\n",
    "heartvars_qst = [None if i.find('qstn/qstnLit') is None\n",
    "                 else i.find('qstn/qstnLit').text\n",
    "                 for i in root.findall('dataDscr/var')\n",
    "                if 'heart' in i.find('labl').text.lower() ]\n",
    "# Have to specify None since .text won't work if it's empty.\n",
    "\n",
    "pd.DataFrame({\n",
    "    'Variable':heartvars,\n",
    "    'Description':heartvars_desc,\n",
    "    'Question':heartvars_qst\n",
    "}).head()"
   ]
  },
  {
   "cell_type": "markdown",
   "metadata": {},
   "source": [
    "Alright, that's pretty cool! Applying that concept to a function is pretty straightforward:"
   ]
  },
  {
   "cell_type": "code",
   "execution_count": 7,
   "metadata": {},
   "outputs": [
    {
     "data": {
      "text/html": [
       "<div>\n",
       "<style scoped>\n",
       "    .dataframe tbody tr th:only-of-type {\n",
       "        vertical-align: middle;\n",
       "    }\n",
       "\n",
       "    .dataframe tbody tr th {\n",
       "        vertical-align: top;\n",
       "    }\n",
       "\n",
       "    .dataframe thead th {\n",
       "        text-align: right;\n",
       "    }\n",
       "</style>\n",
       "<table border=\"1\" class=\"dataframe\">\n",
       "  <thead>\n",
       "    <tr style=\"text-align: right;\">\n",
       "      <th></th>\n",
       "      <th>Variable</th>\n",
       "      <th>Description</th>\n",
       "      <th>Question</th>\n",
       "    </tr>\n",
       "  </thead>\n",
       "  <tbody>\n",
       "    <tr>\n",
       "      <th>0</th>\n",
       "      <td>A1PA11</td>\n",
       "      <td>Heart problems ever</td>\n",
       "      <td>Have you ever had heart trouble suspected or c...</td>\n",
       "    </tr>\n",
       "    <tr>\n",
       "      <th>1</th>\n",
       "      <td>A1PA11A</td>\n",
       "      <td>Age of heart problem</td>\n",
       "      <td>How old were you when a doctor first told you ...</td>\n",
       "    </tr>\n",
       "    <tr>\n",
       "      <th>2</th>\n",
       "      <td>A1PA11BA</td>\n",
       "      <td>Heart attack</td>\n",
       "      <td>What was the diagnosis - HEART ATTACK?</td>\n",
       "    </tr>\n",
       "    <tr>\n",
       "      <th>3</th>\n",
       "      <td>A1PA11BE</td>\n",
       "      <td>Hole in heart/atrial septal dfct</td>\n",
       "      <td>What was the diagnosis - HOLE IN HEART, ATRIAL...</td>\n",
       "    </tr>\n",
       "    <tr>\n",
       "      <th>4</th>\n",
       "      <td>A1PA11BG</td>\n",
       "      <td>Irregular/fast heart beat/arrhyt</td>\n",
       "      <td>What was the diagnosis - IRREGULAR/FAST HEART ...</td>\n",
       "    </tr>\n",
       "  </tbody>\n",
       "</table>\n",
       "</div>"
      ],
      "text/plain": [
       "   Variable                       Description  \\\n",
       "0    A1PA11               Heart problems ever   \n",
       "1   A1PA11A              Age of heart problem   \n",
       "2  A1PA11BA                      Heart attack   \n",
       "3  A1PA11BE  Hole in heart/atrial septal dfct   \n",
       "4  A1PA11BG  Irregular/fast heart beat/arrhyt   \n",
       "\n",
       "                                            Question  \n",
       "0  Have you ever had heart trouble suspected or c...  \n",
       "1  How old were you when a doctor first told you ...  \n",
       "2             What was the diagnosis - HEART ATTACK?  \n",
       "3  What was the diagnosis - HOLE IN HEART, ATRIAL...  \n",
       "4  What was the diagnosis - IRREGULAR/FAST HEART ...  "
      ]
     },
     "execution_count": 7,
     "metadata": {},
     "output_type": "execute_result"
    }
   ],
   "source": [
    "def varsearch (search_string,root=root):\n",
    "    varnames = [i.attrib['name']\n",
    "             for i in root.findall('dataDscr/var')\n",
    "             if search_string in i.find('labl').text.lower() ]\n",
    "    \n",
    "    vardesc = [i.find('labl').text \n",
    "                  for i in root.findall('dataDscr/var')\n",
    "                 if search_string in i.find('labl').text.lower() ]\n",
    "    \n",
    "    varqst = [None if i.find('qstn/qstnLit') is None\n",
    "                 else i.find('qstn/qstnLit').text\n",
    "                 for i in root.findall('dataDscr/var')\n",
    "                if search_string in i.find('labl').text.lower() ]\n",
    "    outdf = pd.DataFrame({\n",
    "        'Variable':varnames,\n",
    "        'Description':vardesc,\n",
    "        'Question':varqst\n",
    "    })\n",
    "    return outdf;\n",
    "\n",
    "varsearch('heart').head()"
   ]
  },
  {
   "cell_type": "markdown",
   "metadata": {},
   "source": [
    "That is super convenient, and way easier than navigating a website or reading through a huge PDF file. What's better, now that it's in a Pandas dataframe, you can extract the variable names directly and use that to subset the larger data file later on.\n",
    "\n",
    "<a id=\"summary\"></a>\n",
    "# Summary\n",
    "\n",
    "So there you have it. If a dataset with a lot of variables has an associated XML file, using ElementTree to parse thorugh everything can help a lot as you start looking at what questions you can answer and problems you can solve with the data. Wrap everything in a function, and you can quickly get a sense of what kind of variables are available. I also like the idea of sticking with parsing XML directly with a function like this because you can easily add more attributes to the function if you need more information. For example, this file also contains value labels and some other information like minimum and maximum values that, if needed, can easily be added to the function. \n",
    "\n",
    "Next week I'm planning on on posting a little SVM project, also using Python, maybe using this dataset (I haven't decided yet). As always, if you have questions or would like to get in touch, you can contact me at alex@alexdatasci.com. \n",
    "\n",
    "Happy Weekend!\n",
    "\n",
    "-Alex"
   ]
  }
 ],
 "metadata": {
  "kernelspec": {
   "display_name": "Python 3",
   "language": "python",
   "name": "python3"
  },
  "language_info": {
   "codemirror_mode": {
    "name": "ipython",
    "version": 3
   },
   "file_extension": ".py",
   "mimetype": "text/x-python",
   "name": "python",
   "nbconvert_exporter": "python",
   "pygments_lexer": "ipython3",
   "version": "3.6.6"
  }
 },
 "nbformat": 4,
 "nbformat_minor": 2
}

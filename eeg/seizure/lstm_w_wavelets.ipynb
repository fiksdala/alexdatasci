{
 "cells": [
  {
   "cell_type": "code",
   "execution_count": 1,
   "metadata": {},
   "outputs": [],
   "source": [
    "import pickle\n",
    "import numpy as np\n",
    "import pandas as pd\n",
    "import wfdb\n",
    "# import mne\n",
    "import os\n",
    "from matplotlib import pyplot as plt\n",
    "\n",
    "X_S = pickle.load(open('X_S.pickle', 'rb'))\n",
    "X_S_file = pickle.load(open('X_S_file.pickle', 'rb'))\n",
    "X_NS = pickle.load(open('X_S.pickle', 'rb'))\n",
    "X_NS_file = pickle.load(open('X_NS_file.pickle', 'rb'))\n",
    "chan_order_dict = pickle.load(open('chan_order_dict.pickle', 'rb'))"
   ]
  },
  {
   "cell_type": "code",
   "execution_count": 2,
   "metadata": {},
   "outputs": [],
   "source": [
    "# Extract power spec of  5, 10, 15 Hz morlet wavelt of FT9-FT10 for all obs\n",
    "# This could be refined for better speed by splitting wavelet creation\n",
    "# into different function/loop. For only a few, it doesn't really matter.\n",
    "\n",
    "def get_pwr(x,elec,hz):\n",
    "    # create wavelet\n",
    "    srate = 256\n",
    "    time = np.arange(-2,2+1/256,1/256)\n",
    "    freq = hz\n",
    "\n",
    "    # gaussian window\n",
    "    s = 7 / (2*np.pi*freq)\n",
    "    sine_wave = np.exp(1j*2*np.pi*freq*time)\n",
    "    gaus_win = np.exp((-time**2) / (2*s**2))\n",
    "    complex_mw = sine_wave * gaus_win\n",
    "    \n",
    "    # Conv parameters\n",
    "    nData = len(x[chan_order_dict[elec],:])\n",
    "    nKern = len(complex_mw)\n",
    "    nConv = nData+nKern-1\n",
    "    \n",
    "    # Get FFT of wavelet\n",
    "    cmwX = np.fft.fft(complex_mw,nConv)\n",
    "    cmwX = cmwX/max(cmwX)\n",
    "    \n",
    "    # Get FFT of data\n",
    "    dataX = np.fft.fft(x[chan_order_dict[elec],:],nConv)\n",
    "    \n",
    "    # Convolution and inverse fft\n",
    "    conv_res = np.fft.ifft(dataX * cmwX)\n",
    "    \n",
    "    # Remove extra ends\n",
    "    half_wav = round(len(complex_mw)/2)+1\n",
    "    conv_res_timedomain = conv_res[np.arange(half_wav-1,\n",
    "                                             len(conv_res)-half_wav+1)]\n",
    "    \n",
    "    # Return magnitude squared\n",
    "    return np.real(conv_res_timedomain)**2+np.imag(conv_res_timedomain)**2\n",
    "    "
   ]
  },
  {
   "cell_type": "code",
   "execution_count": 3,
   "metadata": {},
   "outputs": [],
   "source": [
    "# Get 3d array of X_S in correct format\n",
    "xs_lstm = []\n",
    "for obs in X_S:\n",
    "    hz_pwr = []\n",
    "    for hz in [5,10,15]:\n",
    "        hz_pwr.append(get_pwr(obs,'FT9-FT10',hz))\n",
    "    hz_pwr = np.array(hz_pwr).reshape(-1,3)\n",
    "    xs_lstm.append(hz_pwr)\n",
    "xs_lstm = np.array(xs_lstm)      "
   ]
  },
  {
   "cell_type": "code",
   "execution_count": 4,
   "metadata": {},
   "outputs": [],
   "source": [
    "# Get 3d array of X_NS in correct format\n",
    "xns_lstm = []\n",
    "for obs in X_NS:\n",
    "    hz_pwr = []\n",
    "    for hz in [5,10,15]:\n",
    "        hz_pwr.append(get_pwr(obs,'FT9-FT10',hz))\n",
    "    hz_pwr = np.array(hz_pwr).reshape(-1,3)\n",
    "    xns_lstm.append(hz_pwr)\n",
    "xns_lstm = np.array(xs_lstm)  "
   ]
  },
  {
   "cell_type": "code",
   "execution_count": 5,
   "metadata": {},
   "outputs": [
    {
     "data": {
      "text/plain": [
       "[<matplotlib.lines.Line2D at 0x10aa364a8>]"
      ]
     },
     "execution_count": 5,
     "metadata": {},
     "output_type": "execute_result"
    },
    {
     "data": {
      "image/png": "[encoded data removed]",
      "text/plain": [
       "<Figure size 432x288 with 1 Axes>"
      ]
     },
     "metadata": {
      "needs_background": "light"
     },
     "output_type": "display_data"
    }
   ],
   "source": [
    "# Plot one example\n",
    "plt.plot(xs_lstm[0][:,2])"
   ]
  },
  {
   "cell_type": "code",
   "execution_count": 6,
   "metadata": {},
   "outputs": [],
   "source": [
    "# Combine and shuffle, make Y\n",
    "np.random.seed(1234)\n",
    "shuf_int = np.random.choice(range(xs_lstm.shape[0]*2),\n",
    "                            xs_lstm.shape[0]*2,\n",
    "                            replace=False)\n",
    "\n",
    "pre_x = np.concatenate([xs_lstm,xns_lstm])\n",
    "pre_y = np.concatenate([[1 for i in range(xs_lstm.shape[0])],\n",
    "                        [0 for i in range(xs_lstm.shape[0])]])\n",
    "X = pre_x[shuf_int].copy()\n",
    "Y = pre_y[shuf_int].copy()\n"
   ]
  },
  {
   "cell_type": "code",
   "execution_count": 7,
   "metadata": {},
   "outputs": [
    {
     "name": "stderr",
     "output_type": "stream",
     "text": [
      "Using TensorFlow backend.\n"
     ]
    }
   ],
   "source": [
    "# Let's try an LSTM\n",
    "import keras\n",
    "from keras import Sequential\n",
    "from keras.layers import Flatten, Dense, Activation\n",
    "from keras.layers import Conv2D, MaxPooling2D, Dropout\n",
    "from keras.callbacks import ModelCheckpoint, EarlyStopping\n",
    "from keras.wrappers.scikit_learn import KerasClassifier\n",
    "import tensorflow as tf\n",
    "import keras.backend as k\n",
    "from keras.layers import LSTM"
   ]
  },
  {
   "cell_type": "code",
   "execution_count": 8,
   "metadata": {},
   "outputs": [],
   "source": [
    "# Make managable sized training data (last second, first freq)\n",
    "# keras_x = np.array([i[-64:,0].reshape(-1,1) for i in X])\n",
    "keras_x = X.copy()\n",
    "keras_x[keras_x>100] = 100 # trim excessive\n",
    "# keras_x = np.log(keras_x)\n",
    "# Make 16hz sample rate\n",
    "# keras_x = np.array([i[range(0,i.shape[0],16)] for i in keras_x])"
   ]
  },
  {
   "cell_type": "code",
   "execution_count": 15,
   "metadata": {},
   "outputs": [
    {
     "data": {
      "text/plain": [
       "76800"
      ]
     },
     "execution_count": 15,
     "metadata": {},
     "output_type": "execute_result"
    }
   ],
   "source": [
    "76544+256"
   ]
  },
  {
   "cell_type": "code",
   "execution_count": 16,
   "metadata": {},
   "outputs": [
    {
     "data": {
      "text/plain": [
       "[[0, 256],\n",
       " [256, 512],\n",
       " [512, 768],\n",
       " [768, 1024],\n",
       " [1024, 1280],\n",
       " [1280, 1536],\n",
       " [1536, 1792],\n",
       " [1792, 2048],\n",
       " [2048, 2304],\n",
       " [2304, 2560],\n",
       " [2560, 2816],\n",
       " [2816, 3072],\n",
       " [3072, 3328],\n",
       " [3328, 3584],\n",
       " [3584, 3840],\n",
       " [3840, 4096],\n",
       " [4096, 4352],\n",
       " [4352, 4608],\n",
       " [4608, 4864],\n",
       " [4864, 5120],\n",
       " [5120, 5376],\n",
       " [5376, 5632],\n",
       " [5632, 5888],\n",
       " [5888, 6144],\n",
       " [6144, 6400],\n",
       " [6400, 6656],\n",
       " [6656, 6912],\n",
       " [6912, 7168],\n",
       " [7168, 7424],\n",
       " [7424, 7680],\n",
       " [7680, 7936],\n",
       " [7936, 8192],\n",
       " [8192, 8448],\n",
       " [8448, 8704],\n",
       " [8704, 8960],\n",
       " [8960, 9216],\n",
       " [9216, 9472],\n",
       " [9472, 9728],\n",
       " [9728, 9984],\n",
       " [9984, 10240],\n",
       " [10240, 10496],\n",
       " [10496, 10752],\n",
       " [10752, 11008],\n",
       " [11008, 11264],\n",
       " [11264, 11520],\n",
       " [11520, 11776],\n",
       " [11776, 12032],\n",
       " [12032, 12288],\n",
       " [12288, 12544],\n",
       " [12544, 12800],\n",
       " [12800, 13056],\n",
       " [13056, 13312],\n",
       " [13312, 13568],\n",
       " [13568, 13824],\n",
       " [13824, 14080],\n",
       " [14080, 14336],\n",
       " [14336, 14592],\n",
       " [14592, 14848],\n",
       " [14848, 15104],\n",
       " [15104, 15360],\n",
       " [15360, 15616],\n",
       " [15616, 15872],\n",
       " [15872, 16128],\n",
       " [16128, 16384],\n",
       " [16384, 16640],\n",
       " [16640, 16896],\n",
       " [16896, 17152],\n",
       " [17152, 17408],\n",
       " [17408, 17664],\n",
       " [17664, 17920],\n",
       " [17920, 18176],\n",
       " [18176, 18432],\n",
       " [18432, 18688],\n",
       " [18688, 18944],\n",
       " [18944, 19200],\n",
       " [19200, 19456],\n",
       " [19456, 19712],\n",
       " [19712, 19968],\n",
       " [19968, 20224],\n",
       " [20224, 20480],\n",
       " [20480, 20736],\n",
       " [20736, 20992],\n",
       " [20992, 21248],\n",
       " [21248, 21504],\n",
       " [21504, 21760],\n",
       " [21760, 22016],\n",
       " [22016, 22272],\n",
       " [22272, 22528],\n",
       " [22528, 22784],\n",
       " [22784, 23040],\n",
       " [23040, 23296],\n",
       " [23296, 23552],\n",
       " [23552, 23808],\n",
       " [23808, 24064],\n",
       " [24064, 24320],\n",
       " [24320, 24576],\n",
       " [24576, 24832],\n",
       " [24832, 25088],\n",
       " [25088, 25344],\n",
       " [25344, 25600],\n",
       " [25600, 25856],\n",
       " [25856, 26112],\n",
       " [26112, 26368],\n",
       " [26368, 26624],\n",
       " [26624, 26880],\n",
       " [26880, 27136],\n",
       " [27136, 27392],\n",
       " [27392, 27648],\n",
       " [27648, 27904],\n",
       " [27904, 28160],\n",
       " [28160, 28416],\n",
       " [28416, 28672],\n",
       " [28672, 28928],\n",
       " [28928, 29184],\n",
       " [29184, 29440],\n",
       " [29440, 29696],\n",
       " [29696, 29952],\n",
       " [29952, 30208],\n",
       " [30208, 30464],\n",
       " [30464, 30720],\n",
       " [30720, 30976],\n",
       " [30976, 31232],\n",
       " [31232, 31488],\n",
       " [31488, 31744],\n",
       " [31744, 32000],\n",
       " [32000, 32256],\n",
       " [32256, 32512],\n",
       " [32512, 32768],\n",
       " [32768, 33024],\n",
       " [33024, 33280],\n",
       " [33280, 33536],\n",
       " [33536, 33792],\n",
       " [33792, 34048],\n",
       " [34048, 34304],\n",
       " [34304, 34560],\n",
       " [34560, 34816],\n",
       " [34816, 35072],\n",
       " [35072, 35328],\n",
       " [35328, 35584],\n",
       " [35584, 35840],\n",
       " [35840, 36096],\n",
       " [36096, 36352],\n",
       " [36352, 36608],\n",
       " [36608, 36864],\n",
       " [36864, 37120],\n",
       " [37120, 37376],\n",
       " [37376, 37632],\n",
       " [37632, 37888],\n",
       " [37888, 38144],\n",
       " [38144, 38400],\n",
       " [38400, 38656],\n",
       " [38656, 38912],\n",
       " [38912, 39168],\n",
       " [39168, 39424],\n",
       " [39424, 39680],\n",
       " [39680, 39936],\n",
       " [39936, 40192],\n",
       " [40192, 40448],\n",
       " [40448, 40704],\n",
       " [40704, 40960],\n",
       " [40960, 41216],\n",
       " [41216, 41472],\n",
       " [41472, 41728],\n",
       " [41728, 41984],\n",
       " [41984, 42240],\n",
       " [42240, 42496],\n",
       " [42496, 42752],\n",
       " [42752, 43008],\n",
       " [43008, 43264],\n",
       " [43264, 43520],\n",
       " [43520, 43776],\n",
       " [43776, 44032],\n",
       " [44032, 44288],\n",
       " [44288, 44544],\n",
       " [44544, 44800],\n",
       " [44800, 45056],\n",
       " [45056, 45312],\n",
       " [45312, 45568],\n",
       " [45568, 45824],\n",
       " [45824, 46080],\n",
       " [46080, 46336],\n",
       " [46336, 46592],\n",
       " [46592, 46848],\n",
       " [46848, 47104],\n",
       " [47104, 47360],\n",
       " [47360, 47616],\n",
       " [47616, 47872],\n",
       " [47872, 48128],\n",
       " [48128, 48384],\n",
       " [48384, 48640],\n",
       " [48640, 48896],\n",
       " [48896, 49152],\n",
       " [49152, 49408],\n",
       " [49408, 49664],\n",
       " [49664, 49920],\n",
       " [49920, 50176],\n",
       " [50176, 50432],\n",
       " [50432, 50688],\n",
       " [50688, 50944],\n",
       " [50944, 51200],\n",
       " [51200, 51456],\n",
       " [51456, 51712],\n",
       " [51712, 51968],\n",
       " [51968, 52224],\n",
       " [52224, 52480],\n",
       " [52480, 52736],\n",
       " [52736, 52992],\n",
       " [52992, 53248],\n",
       " [53248, 53504],\n",
       " [53504, 53760],\n",
       " [53760, 54016],\n",
       " [54016, 54272],\n",
       " [54272, 54528],\n",
       " [54528, 54784],\n",
       " [54784, 55040],\n",
       " [55040, 55296],\n",
       " [55296, 55552],\n",
       " [55552, 55808],\n",
       " [55808, 56064],\n",
       " [56064, 56320],\n",
       " [56320, 56576],\n",
       " [56576, 56832],\n",
       " [56832, 57088],\n",
       " [57088, 57344],\n",
       " [57344, 57600],\n",
       " [57600, 57856],\n",
       " [57856, 58112],\n",
       " [58112, 58368],\n",
       " [58368, 58624],\n",
       " [58624, 58880],\n",
       " [58880, 59136],\n",
       " [59136, 59392],\n",
       " [59392, 59648],\n",
       " [59648, 59904],\n",
       " [59904, 60160],\n",
       " [60160, 60416],\n",
       " [60416, 60672],\n",
       " [60672, 60928],\n",
       " [60928, 61184],\n",
       " [61184, 61440],\n",
       " [61440, 61696],\n",
       " [61696, 61952],\n",
       " [61952, 62208],\n",
       " [62208, 62464],\n",
       " [62464, 62720],\n",
       " [62720, 62976],\n",
       " [62976, 63232],\n",
       " [63232, 63488],\n",
       " [63488, 63744],\n",
       " [63744, 64000],\n",
       " [64000, 64256],\n",
       " [64256, 64512],\n",
       " [64512, 64768],\n",
       " [64768, 65024],\n",
       " [65024, 65280],\n",
       " [65280, 65536],\n",
       " [65536, 65792],\n",
       " [65792, 66048],\n",
       " [66048, 66304],\n",
       " [66304, 66560],\n",
       " [66560, 66816],\n",
       " [66816, 67072],\n",
       " [67072, 67328],\n",
       " [67328, 67584],\n",
       " [67584, 67840],\n",
       " [67840, 68096],\n",
       " [68096, 68352],\n",
       " [68352, 68608],\n",
       " [68608, 68864],\n",
       " [68864, 69120],\n",
       " [69120, 69376],\n",
       " [69376, 69632],\n",
       " [69632, 69888],\n",
       " [69888, 70144],\n",
       " [70144, 70400],\n",
       " [70400, 70656],\n",
       " [70656, 70912],\n",
       " [70912, 71168],\n",
       " [71168, 71424],\n",
       " [71424, 71680],\n",
       " [71680, 71936],\n",
       " [71936, 72192],\n",
       " [72192, 72448],\n",
       " [72448, 72704],\n",
       " [72704, 72960],\n",
       " [72960, 73216],\n",
       " [73216, 73472],\n",
       " [73472, 73728],\n",
       " [73728, 73984],\n",
       " [73984, 74240],\n",
       " [74240, 74496],\n",
       " [74496, 74752],\n",
       " [74752, 75008],\n",
       " [75008, 75264],\n",
       " [75264, 75520],\n",
       " [75520, 75776],\n",
       " [75776, 76032],\n",
       " [76032, 76288],\n",
       " [76288, 76544],\n",
       " [76544, 76800]]"
      ]
     },
     "execution_count": 16,
     "metadata": {},
     "output_type": "execute_result"
    }
   ],
   "source": [
    "[[i,i+256] for i in list(range(0,keras_x.shape[1],256))]"
   ]
  },
  {
   "cell_type": "code",
   "execution_count": 36,
   "metadata": {},
   "outputs": [
    {
     "data": {
      "text/plain": [
       "range(256, 512)"
      ]
     },
     "execution_count": 36,
     "metadata": {},
     "output_type": "execute_result"
    }
   ],
   "source": [
    "inds = [range(i,i+256) for i in list(range(0,keras_x.shape[1],256))] \n",
    "inds[]"
   ]
  },
  {
   "cell_type": "code",
   "execution_count": 55,
   "metadata": {},
   "outputs": [],
   "source": [
    "keras_x = keras.utils.normalize(keras_x,axis=0)\n",
    "keras_y = keras.utils.to_categorical(Y)"
   ]
  },
  {
   "cell_type": "code",
   "execution_count": 56,
   "metadata": {},
   "outputs": [],
   "source": [
    "keras_x = np.array([i[-200:,0].reshape(-1,1) for i in X])"
   ]
  },
  {
   "cell_type": "code",
   "execution_count": 57,
   "metadata": {},
   "outputs": [
    {
     "data": {
      "text/plain": [
       "12.577653308659698"
      ]
     },
     "execution_count": 57,
     "metadata": {},
     "output_type": "execute_result"
    }
   ],
   "source": [
    "np.log(X.max())"
   ]
  },
  {
   "cell_type": "code",
   "execution_count": 58,
   "metadata": {},
   "outputs": [],
   "source": [
    "model = Sequential()\n",
    "model.add(LSTM(8, input_shape=(keras_x.shape[1:])))\n",
    "model.add(Dense(2,activation='softmax'))\n",
    "model.compile(loss='categorical_crossentropy', \n",
    "              optimizer=keras.optimizers.adam(),\n",
    "             metrics=['accuracy'])"
   ]
  },
  {
   "cell_type": "code",
   "execution_count": 59,
   "metadata": {},
   "outputs": [
    {
     "name": "stdout",
     "output_type": "stream",
     "text": [
      "Train on 201 samples, validate on 51 samples\n",
      "Epoch 1/20\n",
      "201/201 [==============================] - 2s 10ms/step - loss: 0.7043 - acc: 0.4776 - val_loss: 0.6927 - val_acc: 0.5490\n",
      "Epoch 2/20\n",
      "201/201 [==============================] - 1s 3ms/step - loss: 0.6997 - acc: 0.5075 - val_loss: 0.6920 - val_acc: 0.4902\n",
      "Epoch 3/20\n",
      "201/201 [==============================] - 1s 3ms/step - loss: 0.6978 - acc: 0.5124 - val_loss: 0.6921 - val_acc: 0.4706\n",
      "Epoch 4/20\n",
      "201/201 [==============================] - 1s 3ms/step - loss: 0.6966 - acc: 0.4876 - val_loss: 0.6924 - val_acc: 0.4902\n",
      "Epoch 5/20\n",
      "201/201 [==============================] - 1s 3ms/step - loss: 0.6957 - acc: 0.4975 - val_loss: 0.6928 - val_acc: 0.5098\n",
      "Epoch 6/20\n",
      "201/201 [==============================] - 1s 3ms/step - loss: 0.6951 - acc: 0.4925 - val_loss: 0.6933 - val_acc: 0.4706\n",
      "Epoch 7/20\n",
      "201/201 [==============================] - 1s 3ms/step - loss: 0.6946 - acc: 0.5075 - val_loss: 0.6937 - val_acc: 0.4902\n",
      "Epoch 8/20\n",
      "201/201 [==============================] - 1s 3ms/step - loss: 0.6944 - acc: 0.5025 - val_loss: 0.6942 - val_acc: 0.4902\n",
      "Epoch 9/20\n",
      "201/201 [==============================] - 1s 3ms/step - loss: 0.6944 - acc: 0.5025 - val_loss: 0.6946 - val_acc: 0.4902\n",
      "Epoch 10/20\n",
      "201/201 [==============================] - 1s 3ms/step - loss: 0.6942 - acc: 0.5025 - val_loss: 0.6951 - val_acc: 0.4902\n",
      "Epoch 11/20\n",
      "201/201 [==============================] - 1s 3ms/step - loss: 0.6943 - acc: 0.5075 - val_loss: 0.6953 - val_acc: 0.4902\n",
      "Epoch 12/20\n",
      "201/201 [==============================] - 1s 3ms/step - loss: 0.6941 - acc: 0.5025 - val_loss: 0.6954 - val_acc: 0.4902\n",
      "Epoch 13/20\n",
      "201/201 [==============================] - 1s 3ms/step - loss: 0.6945 - acc: 0.5075 - val_loss: 0.6955 - val_acc: 0.4902\n",
      "Epoch 14/20\n",
      "201/201 [==============================] - 1s 3ms/step - loss: 0.6942 - acc: 0.4975 - val_loss: 0.6959 - val_acc: 0.4902\n",
      "Epoch 15/20\n",
      "201/201 [==============================] - 1s 3ms/step - loss: 0.6939 - acc: 0.4975 - val_loss: 0.6962 - val_acc: 0.4902\n",
      "Epoch 16/20\n",
      "201/201 [==============================] - 1s 3ms/step - loss: 0.6940 - acc: 0.5174 - val_loss: 0.6965 - val_acc: 0.4902\n",
      "Epoch 17/20\n",
      "201/201 [==============================] - 1s 3ms/step - loss: 0.6938 - acc: 0.4975 - val_loss: 0.6965 - val_acc: 0.4902\n",
      "Epoch 18/20\n",
      "201/201 [==============================] - 1s 3ms/step - loss: 0.6939 - acc: 0.5025 - val_loss: 0.6965 - val_acc: 0.4902\n",
      "Epoch 19/20\n",
      "201/201 [==============================] - 1s 3ms/step - loss: 0.6939 - acc: 0.5124 - val_loss: 0.6963 - val_acc: 0.4902\n",
      "Epoch 20/20\n",
      "201/201 [==============================] - 1s 3ms/step - loss: 0.6938 - acc: 0.5025 - val_loss: 0.6962 - val_acc: 0.5098\n"
     ]
    },
    {
     "data": {
      "text/plain": [
       "<keras.callbacks.History at 0x169a046d8>"
      ]
     },
     "execution_count": 59,
     "metadata": {},
     "output_type": "execute_result"
    }
   ],
   "source": [
    "model.fit(keras_x,keras_y,batch_size=64,validation_split=.2,epochs=20)"
   ]
  },
  {
   "cell_type": "code",
   "execution_count": 143,
   "metadata": {},
   "outputs": [
    {
     "data": {
      "text/plain": [
       "[1, 3, 5, 7, 9]"
      ]
     },
     "execution_count": 143,
     "metadata": {},
     "output_type": "execute_result"
    }
   ],
   "source": [
    "list(range(1,10,2))"
   ]
  },
  {
   "cell_type": "code",
   "execution_count": 144,
   "metadata": {},
   "outputs": [
    {
     "data": {
      "text/plain": [
       "64.0"
      ]
     },
     "execution_count": 144,
     "metadata": {},
     "output_type": "execute_result"
    }
   ],
   "source": [
    "256/4"
   ]
  },
  {
   "cell_type": "code",
   "execution_count": 146,
   "metadata": {},
   "outputs": [
    {
     "data": {
      "text/plain": [
       "[0,\n",
       " 4,\n",
       " 8,\n",
       " 12,\n",
       " 16,\n",
       " 20,\n",
       " 24,\n",
       " 28,\n",
       " 32,\n",
       " 36,\n",
       " 40,\n",
       " 44,\n",
       " 48,\n",
       " 52,\n",
       " 56,\n",
       " 60,\n",
       " 64,\n",
       " 68,\n",
       " 72,\n",
       " 76,\n",
       " 80,\n",
       " 84,\n",
       " 88,\n",
       " 92,\n",
       " 96,\n",
       " 100,\n",
       " 104,\n",
       " 108,\n",
       " 112,\n",
       " 116,\n",
       " 120,\n",
       " 124,\n",
       " 128,\n",
       " 132,\n",
       " 136,\n",
       " 140,\n",
       " 144,\n",
       " 148,\n",
       " 152,\n",
       " 156,\n",
       " 160,\n",
       " 164,\n",
       " 168,\n",
       " 172,\n",
       " 176,\n",
       " 180,\n",
       " 184,\n",
       " 188,\n",
       " 192,\n",
       " 196,\n",
       " 200,\n",
       " 204,\n",
       " 208,\n",
       " 212,\n",
       " 216,\n",
       " 220,\n",
       " 224,\n",
       " 228,\n",
       " 232,\n",
       " 236,\n",
       " 240,\n",
       " 244,\n",
       " 248,\n",
       " 252]"
      ]
     },
     "execution_count": 146,
     "metadata": {},
     "output_type": "execute_result"
    }
   ],
   "source": [
    "list(range(0,256,4))"
   ]
  },
  {
   "cell_type": "code",
   "execution_count": null,
   "metadata": {},
   "outputs": [],
   "source": []
  }
 ],
 "metadata": {
  "kernelspec": {
   "display_name": "Python 3",
   "language": "python",
   "name": "python3"
  },
  "language_info": {
   "codemirror_mode": {
    "name": "ipython",
    "version": 3
   },
   "file_extension": ".py",
   "mimetype": "text/x-python",
   "name": "python",
   "nbconvert_exporter": "python",
   "pygments_lexer": "ipython3",
   "version": "3.6.8"
  }
 },
 "nbformat": 4,
 "nbformat_minor": 2
}

{
 "cells": [
  {
   "cell_type": "code",
   "execution_count": 1,
   "metadata": {},
   "outputs": [],
   "source": [
    "import os\n",
    "import wfdb\n",
    "import numpy as np\n",
    "import pandas as pd"
   ]
  },
  {
   "cell_type": "code",
   "execution_count": null,
   "metadata": {},
   "outputs": [],
   "source": []
  },
  {
   "cell_type": "code",
   "execution_count": 2,
   "metadata": {},
   "outputs": [
    {
     "name": "stdout",
     "output_type": "stream",
     "text": [
      "Created local base download directory: record_info\n",
      "Downloading files...\n",
      "Finished downloading files\n"
     ]
    }
   ],
   "source": [
    "# DOWNLOAD RECORD INFORMATION FILES\n",
    "wfdb.dl_files('chbmit',dl_dir='record_info',\n",
    "              files=['RECORDS','RECORDS-WITH-SEIZURES'])"
   ]
  },
  {
   "cell_type": "code",
   "execution_count": 3,
   "metadata": {},
   "outputs": [],
   "source": [
    "# Get channels, start-end, and seizure start-end for all files in subject\n",
    "def get_sub_info(file):\n",
    "    subject = [i[:-1] for i in open(file, 'r')]\n",
    "    file_chans = {}\n",
    "    start_end = {}\n",
    "    seiz_start_end = {}\n",
    "    collect_seiz_time = False\n",
    "    for i in subject:\n",
    "        if 'Channel 1:' in i:\n",
    "            collect_chan = True\n",
    "            channel_group = {}\n",
    "        if 'Channel' not in i:\n",
    "            collect_chan = False\n",
    "        if collect_chan:\n",
    "            channel_group[i.split(':')[0]] = i.split(':')[1].strip()\n",
    "        if 'File Name:' in i:\n",
    "            f_name = i.split(':')[1].strip()\n",
    "            file_chans[f_name] = channel_group\n",
    "            start_end[f_name] = []\n",
    "        if i.split(':')[0]=='Number of Seizures in File' \\\n",
    "        and float(i.split(':')[1].strip())>0:\n",
    "            s_e = []\n",
    "            seiz_start_end[f_name] = []\n",
    "        if ('Seizure' in i and 'Start' in i):\n",
    "            collect_seiz_time = True\n",
    "        if i=='':\n",
    "            collect_seiz_time = False\n",
    "        if collect_seiz_time:\n",
    "            s_e.append(float(i.split(':')[1].strip().split(' ')[0]))\n",
    "            seiz_start_end[f_name] = s_e\n",
    "        if 'File Start Time' in i:\n",
    "            s_time = i.split(': ')[1]\n",
    "        if 'File End Time' in i:\n",
    "            start_end[f_name] = [s_time,i.split(': ')[1]]\n",
    "    return file_chans, start_end, seiz_start_end"
   ]
  },
  {
   "cell_type": "code",
   "execution_count": 4,
   "metadata": {},
   "outputs": [],
   "source": [
    "# Get and combine file_chans, start_end, and seiz_start_end for all subjects\n",
    "sub_files = ['record_info/' + i for i in \\\n",
    "             os.listdir('record_info') if 'summary' in i]\n",
    "file_chans = {}\n",
    "file_s_e = {}\n",
    "file_seize_s_e = {}\n",
    "\n",
    "for i in sub_files:\n",
    "    fc, se, sse = get_sub_info(i)\n",
    "    file_chans.update(fc)\n",
    "    file_s_e.update(se)\n",
    "    file_seize_s_e.update(sse)"
   ]
  },
  {
   "cell_type": "code",
   "execution_count": 9,
   "metadata": {},
   "outputs": [
    {
     "data": {
      "text/plain": [
       "[]"
      ]
     },
     "execution_count": 9,
     "metadata": {},
     "output_type": "execute_result"
    }
   ],
   "source": [
    "sub_files"
   ]
  },
  {
   "cell_type": "code",
   "execution_count": 5,
   "metadata": {},
   "outputs": [
    {
     "ename": "TypeError",
     "evalue": "list indices must be integers or slices, not list",
     "output_type": "error",
     "traceback": [
      "\u001b[0;31m---------------------------------------------------------------------------\u001b[0m",
      "\u001b[0;31mTypeError\u001b[0m                                 Traceback (most recent call last)",
      "\u001b[0;32m<ipython-input-5-5f0e6a19ea43>\u001b[0m in \u001b[0;36m<module>\u001b[0;34m\u001b[0m\n\u001b[1;32m      9\u001b[0m                       if len(set(seizure_electrodes[0]).intersection\\\n\u001b[1;32m     10\u001b[0m                              (seizure_electrodes[i]))==22]\n\u001b[0;32m---> 11\u001b[0;31m \u001b[0mseizures\u001b[0m \u001b[0;34m=\u001b[0m \u001b[0mseizure_files\u001b[0m\u001b[0;34m[\u001b[0m\u001b[0mmatched_electrodes\u001b[0m\u001b[0;34m]\u001b[0m\u001b[0;34m\u001b[0m\u001b[0;34m\u001b[0m\u001b[0m\n\u001b[0m",
      "\u001b[0;31mTypeError\u001b[0m: list indices must be integers or slices, not list"
     ]
    }
   ],
   "source": [
    "# Get list of seizure files\n",
    "seizure_records = [i[:-1] for i in \\\n",
    "                   open('record_info/RECORDS-WITH-SEIZURES','r') \\\n",
    "                   if i[:-1] != '']\n",
    "seizure_files = [i for i in file_chans.keys() \\\n",
    "                 if i[:5]+'/'+i in seizure_records]\n",
    "seizure_electrodes = [file_chans[i].values() for i in seizure_files]\n",
    "matched_electrodes = [i for i in range(len(seizure_electrodes)) \\\n",
    "                      if len(set(seizure_electrodes[0]).intersection\\\n",
    "                             (seizure_electrodes[i]))==22]\n",
    "seizures = seizure_files[matched_electrodes]"
   ]
  },
  {
   "cell_type": "code",
   "execution_count": null,
   "metadata": {},
   "outputs": [],
   "source": []
  }
 ],
 "metadata": {
  "kernelspec": {
   "display_name": "Python 3",
   "language": "python",
   "name": "python3"
  },
  "language_info": {
   "codemirror_mode": {
    "name": "ipython",
    "version": 3
   },
   "file_extension": ".py",
   "mimetype": "text/x-python",
   "name": "python",
   "nbconvert_exporter": "python",
   "pygments_lexer": "ipython3",
   "version": "3.6.8"
  }
 },
 "nbformat": 4,
 "nbformat_minor": 2
}

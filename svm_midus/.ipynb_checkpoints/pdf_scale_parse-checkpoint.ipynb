{
 "cells": [
  {
   "cell_type": "code",
   "execution_count": 1,
   "metadata": {},
   "outputs": [],
   "source": [
    "import pandas as pd\n",
    "import numpy as np\n",
    "import textract\n",
    "tpath = '/Users/alex/Documents/alexdatasci/data_files/MIDUS_1/' \\\n",
    "            + 'stata/ICPSR_02760/DS0001/02760-0001-' \\\n",
    "            + 'Documentation-scales.pdf'"
   ]
  },
  {
   "cell_type": "code",
   "execution_count": 2,
   "metadata": {},
   "outputs": [],
   "source": [
    "# Extract text \n",
    "vartext = textract.process(tpath)\n",
    "vartext = vartext.splitlines()\n",
    "vartext = pd.Series(vartext)\n",
    "vartext = vartext.str.decode('utf-8').str.strip()\n",
    "vartext.replace('',np.nan,inplace=True)\n",
    "vartext.dropna(inplace=True)\n",
    "vartext.reset_index(drop=True,inplace=True)"
   ]
  },
  {
   "cell_type": "code",
   "execution_count": 3,
   "metadata": {},
   "outputs": [],
   "source": [
    "# Drop preamble\n",
    "vartext = vartext[177:].reset_index(drop=True)"
   ]
  },
  {
   "cell_type": "code",
   "execution_count": 4,
   "metadata": {},
   "outputs": [],
   "source": [
    "# Extract relevant information: headings, scale names, scaleprefix\n",
    "\n",
    "# Scale prefix\n",
    "scaleprefix = pd.Series([1 if ']:' in i \n",
    "                         or (str(i).endswith(']') \n",
    "                             and '-' not in str(i) \n",
    "                             and not str(i).startswith(':')\n",
    "                            )\n",
    "                         else 0 for i in vartext])\n",
    "\n",
    "# Scale names take a few forms:\n",
    "#    Line prior to \"[VARNAME]: (cont\", \n",
    "scalefilt1 = pd.Series([1 if str(i).split('[')[0] == ''\n",
    "                           and ']: (cont' in i else 0 \n",
    "                           for i in vartext]).iloc[1:]\n",
    "scalefilt1 = scalefilt1.append(pd.Series([0]),ignore_index=True)\n",
    "\n",
    "#    Name prior to \"[VARNAME]:BLANK\": This is captured\n",
    "#    in a different scaleprefix\n",
    "\n",
    "#    Line prior to 'Items:' and Name prior to ':BLANK'\n",
    "tempfilt = [True if i.split(':')[0]=='Items' else False for i in vartext]\n",
    "tempfilt = pd.Series(tempfilt[1:]).append(pd.Series([0]), ignore_index=True)\n",
    "scalefilt2 = np.array([False]).repeat(len(vartext))\n",
    "for i in range(1,len(vartext)):\n",
    "    if tempfilt[i]==1 and \"]:\" not in vartext[i]:\n",
    "        scalefilt2[i]=True\n",
    "    else:\n",
    "        scalefilt2[i]=False\n",
    "\n",
    "# Scale headings\n",
    "scaleheading = pd.Series([1 if str(i).split(' (')[0].isupper()\n",
    "                          and '[' not in i \n",
    "                          and i != 'AND' \n",
    "                          and '(' not in str(i).split(' (')[0]\n",
    "                          and len(i) < 50\n",
    "                          else 0 for i in vartext])\n",
    "\n",
    "# Filter out extraneous text\n",
    "vartext = vartext[(scaleprefix+scalefilt1+scalefilt2+scaleheading)>0]"
   ]
  },
  {
   "cell_type": "code",
   "execution_count": 5,
   "metadata": {},
   "outputs": [],
   "source": [
    "# Some scale names are on a separate line, others are\n",
    "# listed before the varname.\n",
    "# First, drop text after \"[VAR]:\"\n",
    "vartext = pd.Series([i[0] for i in vartext.str.split(':')])"
   ]
  },
  {
   "cell_type": "code",
   "execution_count": 6,
   "metadata": {},
   "outputs": [],
   "source": [
    "# Then split examples with \"Scale_name [VARNAME]\" and flatten\n",
    "vartext = pd.Series([i for j in vartext.str.split('[') for i in j])\n",
    "# Drop ''\n",
    "vartext = vartext[vartext!=''].reset_index(drop=True)"
   ]
  },
  {
   "cell_type": "code",
   "execution_count": 7,
   "metadata": {},
   "outputs": [],
   "source": [
    "# Make series for heading, scale, and varnames\n",
    "heading = np.array([None]).repeat(len(vartext))\n",
    "heading[0] = vartext[0]\n",
    "for i in range(1,len(vartext)):\n",
    "    if vartext[i].split('(')[0].isupper() \\\n",
    "        and ']' not in vartext[i]:\n",
    "        heading[i]=vartext[i]\n",
    "    else:\n",
    "        heading[i]=heading[i-1]\n",
    "\n",
    "scale = np.array([None]).repeat(len(vartext))\n",
    "scale[0] = None\n",
    "for i in range(1,len(vartext)):\n",
    "    if vartext[i].split('(')[0].isupper() \\\n",
    "        and ']' not in vartext[i]:\n",
    "        scale[i]=None\n",
    "    elif vartext[i].isupper()==False \\\n",
    "        and vartext[i].islower()==False:\n",
    "        scale[i]=vartext[i]\n",
    "    elif vartext[i].isupper() \\\n",
    "        and ']' in vartext[i]:\n",
    "        scale[i]=scale[i-1]\n",
    "\n",
    "varnames = [i.split(']')[0] if i.isupper() and ']' in i else None \\\n",
    "    for i in vartext]\n",
    "\n",
    "# Make df\n",
    "scaledf = pd.DataFrame({\n",
    "    'Heading':heading,\n",
    "    'Scale':scale,\n",
    "    'Varname':varnames\n",
    "})"
   ]
  },
  {
   "cell_type": "code",
   "execution_count": 8,
   "metadata": {},
   "outputs": [
    {
     "data": {
      "text/html": [
       "<div>\n",
       "<style scoped>\n",
       "    .dataframe tbody tr th:only-of-type {\n",
       "        vertical-align: middle;\n",
       "    }\n",
       "\n",
       "    .dataframe tbody tr th {\n",
       "        vertical-align: top;\n",
       "    }\n",
       "\n",
       "    .dataframe thead th {\n",
       "        text-align: right;\n",
       "    }\n",
       "</style>\n",
       "<table border=\"1\" class=\"dataframe\">\n",
       "  <thead>\n",
       "    <tr style=\"text-align: right;\">\n",
       "      <th></th>\n",
       "      <th>Heading</th>\n",
       "      <th>Scale</th>\n",
       "      <th>Varname</th>\n",
       "    </tr>\n",
       "  </thead>\n",
       "  <tbody>\n",
       "    <tr>\n",
       "      <th>233</th>\n",
       "      <td>BODY INDICES</td>\n",
       "      <td>Body Mass Index</td>\n",
       "      <td>A1SBMI</td>\n",
       "    </tr>\n",
       "    <tr>\n",
       "      <th>234</th>\n",
       "      <td>BODY INDICES</td>\n",
       "      <td>Scales.rtf, p. 97]</td>\n",
       "      <td>None</td>\n",
       "    </tr>\n",
       "    <tr>\n",
       "      <th>235</th>\n",
       "      <td>SEEING DOCTORS &amp; MENTAL HEALTH PROFESSIONALS</td>\n",
       "      <td>None</td>\n",
       "      <td>None</td>\n",
       "    </tr>\n",
       "  </tbody>\n",
       "</table>\n",
       "</div>"
      ],
      "text/plain": [
       "                                          Heading               Scale Varname\n",
       "233                                  BODY INDICES    Body Mass Index   A1SBMI\n",
       "234                                  BODY INDICES  Scales.rtf, p. 97]    None\n",
       "235  SEEING DOCTORS & MENTAL HEALTH PROFESSIONALS                None    None"
      ]
     },
     "execution_count": 8,
     "metadata": {},
     "output_type": "execute_result"
    }
   ],
   "source": [
    "# Some scales are not real scales\n",
    "# They appear when Scale!=None and Varname==None\n",
    "scaledf[233:236]"
   ]
  },
  {
   "cell_type": "code",
   "execution_count": 9,
   "metadata": {},
   "outputs": [],
   "source": [
    "# Drop those\n",
    "tempfilt = scaledf['Scale'].str.contains(']')!=True\n",
    "scaledf = scaledf[tempfilt]"
   ]
  },
  {
   "cell_type": "code",
   "execution_count": 10,
   "metadata": {},
   "outputs": [],
   "source": [
    "# Clean up dataframe:\n",
    "\n",
    "# Some headings/scales have no varnames, but we want to keep them.\n",
    "# We can ID these as headings.value_counts()==2 and no varnames.\n",
    "\n",
    "scaledf['tempvar']=[scaledf['Heading'].value_counts()[i] for i in scaledf['Heading']]"
   ]
  },
  {
   "cell_type": "code",
   "execution_count": 11,
   "metadata": {},
   "outputs": [],
   "source": [
    "# Drop those wtih varname=None except those that satisfy\n",
    "# previous example\n",
    "\n",
    "dropfilt = ~(scaledf['tempvar']==2 & ~scaledf['Scale'].isna()) \\\n",
    "    & ~scaledf['Varname'].isna()\n",
    "scaledf = scaledf[dropfilt].reset_index(drop=True).drop(['tempvar'],axis=1)"
   ]
  },
  {
   "cell_type": "code",
   "execution_count": 12,
   "metadata": {},
   "outputs": [
    {
     "data": {
      "text/html": [
       "<div>\n",
       "<style scoped>\n",
       "    .dataframe tbody tr th:only-of-type {\n",
       "        vertical-align: middle;\n",
       "    }\n",
       "\n",
       "    .dataframe tbody tr th {\n",
       "        vertical-align: top;\n",
       "    }\n",
       "\n",
       "    .dataframe thead th {\n",
       "        text-align: right;\n",
       "    }\n",
       "</style>\n",
       "<table border=\"1\" class=\"dataframe\">\n",
       "  <thead>\n",
       "    <tr style=\"text-align: right;\">\n",
       "      <th></th>\n",
       "      <th>Heading</th>\n",
       "      <th>Scale</th>\n",
       "      <th>Varname</th>\n",
       "    </tr>\n",
       "  </thead>\n",
       "  <tbody>\n",
       "    <tr>\n",
       "      <th>0</th>\n",
       "      <td>DEPRESSION</td>\n",
       "      <td>Depressed Affect</td>\n",
       "      <td>A1PDEPAF</td>\n",
       "    </tr>\n",
       "    <tr>\n",
       "      <th>1</th>\n",
       "      <td>DEPRESSION</td>\n",
       "      <td>Depressed Affect</td>\n",
       "      <td>A1PDEPAD</td>\n",
       "    </tr>\n",
       "    <tr>\n",
       "      <th>2</th>\n",
       "      <td>DEPRESSION</td>\n",
       "      <td>Anhedonia</td>\n",
       "      <td>A1PANHED</td>\n",
       "    </tr>\n",
       "    <tr>\n",
       "      <th>3</th>\n",
       "      <td>DEPRESSION</td>\n",
       "      <td>Anhedonia</td>\n",
       "      <td>A1PANHDX</td>\n",
       "    </tr>\n",
       "    <tr>\n",
       "      <th>4</th>\n",
       "      <td>DEPRESSION</td>\n",
       "      <td>Depression</td>\n",
       "      <td>A1PDEPRE</td>\n",
       "    </tr>\n",
       "  </tbody>\n",
       "</table>\n",
       "</div>"
      ],
      "text/plain": [
       "      Heading             Scale   Varname\n",
       "0  DEPRESSION  Depressed Affect  A1PDEPAF\n",
       "1  DEPRESSION  Depressed Affect  A1PDEPAD\n",
       "2  DEPRESSION         Anhedonia  A1PANHED\n",
       "3  DEPRESSION         Anhedonia  A1PANHDX\n",
       "4  DEPRESSION        Depression  A1PDEPRE"
      ]
     },
     "execution_count": 12,
     "metadata": {},
     "output_type": "execute_result"
    }
   ],
   "source": [
    "scaledf.head()"
   ]
  },
  {
   "cell_type": "code",
   "execution_count": null,
   "metadata": {},
   "outputs": [],
   "source": []
  }
 ],
 "metadata": {
  "kernelspec": {
   "display_name": "Python 3",
   "language": "python",
   "name": "python3"
  },
  "language_info": {
   "codemirror_mode": {
    "name": "ipython",
    "version": 3
   },
   "file_extension": ".py",
   "mimetype": "text/x-python",
   "name": "python",
   "nbconvert_exporter": "python",
   "pygments_lexer": "ipython3",
   "version": "3.6.6"
  }
 },
 "nbformat": 4,
 "nbformat_minor": 2
}

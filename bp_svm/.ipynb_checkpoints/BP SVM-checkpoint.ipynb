{
 "cells": [
  {
   "cell_type": "code",
   "execution_count": 1,
   "metadata": {},
   "outputs": [],
   "source": [
    "import midus_varsum as mvs\n",
    "import pandas as pd\n",
    "import numpy as np\n",
    "from sklearn import svm\n",
    "from sklearn.metrics import classification_report, confusion_matrix  \n",
    "from sklearn.model_selection import cross_val_score\n",
    "from sklearn.model_selection import GridSearchCV\n",
    "from sklearn.model_selection import train_test_split  \n",
    "import matplotlib.pyplot as plt\n",
    "%matplotlib inline\n",
    "import seaborn as sns"
   ]
  },
  {
   "cell_type": "markdown",
   "metadata": {},
   "source": [
    "<a id=\"intro\"></a>\n",
    "# Introduction\n",
    "\n",
    "After playing around with the <a href=\"http://midus.wisc.edu/\" target=\"_blank\">MIDUS</a> XML file during my <a href=\"https://alexdatasci.com/a-little-bit-of-xml-and-python/\" target=\"_blank\">last post</a>, I ended up falling down a bit of a rabbit hole trying to figure out the best way to wrangle the information related to the variables available in the MIDUS 1 dataset. My initial goal seemed simple enough: to be able to find variable names by a search string, matched to the variable label, scale, or topic. In terms of the variable label, this proved simple enough; however, the XML file (as far as I could tell) did not have information related to scales or topics. That information _was_ in a pdf that comes with that data. Then I foolishly decided to try to parse the pdf text to extract what I wanted. I knew that it would probably be tedious and time consuming, but just couldn't help myself. Well, I was right. It was tedious and time consuming. I didn't get everything I wanted before I decided I couldn't spend any more time on it, but I did come away with some useful tools. I haven't made a post about it (at least not yet), but the python file that has everything I did (which I'll use here as well, see 'midus_varsum') is on GITHUB_ADDLINK. \n",
    "\n",
    "Anyway, the main reason I wanted to be able to get so much information about the individual variables in the first place was to try out this support vector machine project:\n",
    "\n",
    "__The Scenario__\n",
    "\n",
    "Let's say that someone has a ton of questionnaire data that assesses a lot of different aspects of life for middle aged people (e.g. subjective mental/physical health, family obligations, social support, etc.) as well as objective measures of physical health (e.g. blood pressure, disease, etc.). Given all that information, can we create a tool that uses a reasonable subset of all those measures (say 10-20 out of a couple thousand or so) that can do a decent job of discriminating between those at risk for a particular physical disease or condition? Moreover, can we do that using variables that are not themselves direct proxies for that particular disease or condition? That's what I'll attempt to do here, with the binary high/low blood pressure variable as the outcome variable of interest.\n",
    "\n",
    "__The Data__\n",
    "\n",
    "I'll use data from the MIDUS 1 study. The data is publicly available (you have to register and agree to terms of use before downloading) and hosted at <a href=\"https://www.icpsr.umich.edu/icpsrweb/ICPSR/studies/2760/variables\" target=\"_blank\">ICPSR</a>. The reference is listed below:\n",
    "\n",
    "Brim, Orville G., Baltes, Paul B., Bumpass, Larry L., Cleary, Paul D., Featherman, David L., Hazzard, William R., … Shweder, Richard A. Midlife in the United States (MIDUS 1), 1995-1996. Ann Arbor, MI: Inter-university Consortium for Political and Social Research [distributor], 2017-11-16. https://doi.org/10.3886/ICPSR02760.v12\n",
    "\n",
    "__The Variables__\n",
    "\n",
    "The goal here is to predict high/low BP based on a reasonable number of _individual_ items. This means I don't want to include fully-constructed scales. I'll put my XML/PDF parsing efforts to work to help with that. I also want to make sure to avoid including predictor variables that that are too synonymous with the outcome variable. For example, a variable that indicates whether someone has heart failure or is on a beta-blocker is probably very predictive, but doesn't really match our goals.\n",
    "\n",
    "__Dealing with a large(ish) dataset.__\n",
    "\n",
    "Most of the research I do in my lab doesn't involve massive datasets. They're usually limited to a few hundred observations at most, with anywhere from 20 to ~1000 variables. Although it's not \"big data\" huge, it is big enough (36 MB, 7,000+ observations, ~2,000 variables) that you notice the lag if you try to load it all at once. This isn't a big deal, but I'll still try to figure out what I need first, then load what's required only, instead of loading everything at once. \n",
    "\n",
    "<a id=\"analysis\"></a>\n",
    "# Analysis Plan\n",
    "\n",
    "* Explore variables\n",
    "* Subset/clean data\n",
    "  * Variables of interest\n",
    "  * Deal with missing, etc.\n",
    "  * Make training, validation, test sets\n",
    "* Train classifier\n",
    "  * Tune C parameter (regularization)\n",
    "* Validate number of predictors\n",
    "  * Balance Type I/II errors against # of predictors\n",
    "* Test model\n",
    "\n",
    "__Explore Variables__\n",
    "\n",
    "First, let's figure out which DV to use. I'll use a little function I wrote that searches variable labels to find those related to blood pressure ('pressure' or 'bp'):"
   ]
  },
  {
   "cell_type": "code",
   "execution_count": 2,
   "metadata": {},
   "outputs": [
    {
     "data": {
      "text/html": [
       "<div>\n",
       "<style scoped>\n",
       "    .dataframe tbody tr th:only-of-type {\n",
       "        vertical-align: middle;\n",
       "    }\n",
       "\n",
       "    .dataframe tbody tr th {\n",
       "        vertical-align: top;\n",
       "    }\n",
       "\n",
       "    .dataframe thead th {\n",
       "        text-align: right;\n",
       "    }\n",
       "</style>\n",
       "<table border=\"1\" class=\"dataframe\">\n",
       "  <thead>\n",
       "    <tr style=\"text-align: right;\">\n",
       "      <th></th>\n",
       "      <th>Variable</th>\n",
       "      <th>Topic</th>\n",
       "      <th>Description</th>\n",
       "      <th>Question</th>\n",
       "    </tr>\n",
       "  </thead>\n",
       "  <tbody>\n",
       "    <tr>\n",
       "      <th>0</th>\n",
       "      <td>A1PA11BC</td>\n",
       "      <td>Health</td>\n",
       "      <td>High blood pressure</td>\n",
       "      <td>What was the diagnosis - HIGH BLOOD PRESSURE?</td>\n",
       "    </tr>\n",
       "    <tr>\n",
       "      <th>1</th>\n",
       "      <td>A1PA29CC</td>\n",
       "      <td>Health</td>\n",
       "      <td>High blood pressure</td>\n",
       "      <td>What did the doctor say it was - HIGH BLOOD PR...</td>\n",
       "    </tr>\n",
       "    <tr>\n",
       "      <th>2</th>\n",
       "      <td>A1PA33</td>\n",
       "      <td>Health</td>\n",
       "      <td>Taking Rx meds for blood pressure</td>\n",
       "      <td>Are you taking any prescription medications fo...</td>\n",
       "    </tr>\n",
       "    <tr>\n",
       "      <th>3</th>\n",
       "      <td>A1PA32S</td>\n",
       "      <td>Health</td>\n",
       "      <td>Blood pressure reading high</td>\n",
       "      <td>What was the exact reading, if you remember - ...</td>\n",
       "    </tr>\n",
       "    <tr>\n",
       "      <th>4</th>\n",
       "      <td>A1PA32D</td>\n",
       "      <td>Health</td>\n",
       "      <td>Blood pressure reading low</td>\n",
       "      <td>What was the exact reading, if you remember - ...</td>\n",
       "    </tr>\n",
       "    <tr>\n",
       "      <th>5</th>\n",
       "      <td>A1SA9S</td>\n",
       "      <td>Your Health</td>\n",
       "      <td>High blood pressure</td>\n",
       "      <td>In the past twelve months, have you experience...</td>\n",
       "    </tr>\n",
       "    <tr>\n",
       "      <th>6</th>\n",
       "      <td>A1PA34</td>\n",
       "      <td>Health</td>\n",
       "      <td>Other treatments for BP</td>\n",
       "      <td>(Not including prescription medications) Are y...</td>\n",
       "    </tr>\n",
       "    <tr>\n",
       "      <th>7</th>\n",
       "      <td>A1PA30</td>\n",
       "      <td>Health</td>\n",
       "      <td># of Months since last BP test</td>\n",
       "      <td>How long has it been since your last blood pre...</td>\n",
       "    </tr>\n",
       "    <tr>\n",
       "      <th>8</th>\n",
       "      <td>A1PA31</td>\n",
       "      <td>Health</td>\n",
       "      <td>General results of BP test</td>\n",
       "      <td>At that time, was your blood pressure low, abo...</td>\n",
       "    </tr>\n",
       "  </tbody>\n",
       "</table>\n",
       "</div>"
      ],
      "text/plain": [
       "   Variable        Topic                        Description  \\\n",
       "0  A1PA11BC       Health                High blood pressure   \n",
       "1  A1PA29CC       Health                High blood pressure   \n",
       "2    A1PA33       Health  Taking Rx meds for blood pressure   \n",
       "3   A1PA32S       Health        Blood pressure reading high   \n",
       "4   A1PA32D       Health         Blood pressure reading low   \n",
       "5    A1SA9S  Your Health                High blood pressure   \n",
       "6    A1PA34       Health            Other treatments for BP   \n",
       "7    A1PA30       Health     # of Months since last BP test   \n",
       "8    A1PA31       Health         General results of BP test   \n",
       "\n",
       "                                            Question  \n",
       "0      What was the diagnosis - HIGH BLOOD PRESSURE?  \n",
       "1  What did the doctor say it was - HIGH BLOOD PR...  \n",
       "2  Are you taking any prescription medications fo...  \n",
       "3  What was the exact reading, if you remember - ...  \n",
       "4  What was the exact reading, if you remember - ...  \n",
       "5  In the past twelve months, have you experience...  \n",
       "6  (Not including prescription medications) Are y...  \n",
       "7  How long has it been since your last blood pre...  \n",
       "8  At that time, was your blood pressure low, abo...  "
      ]
     },
     "execution_count": 2,
     "metadata": {},
     "output_type": "execute_result"
    }
   ],
   "source": [
    "mvs.labsearch('pressure').append(mvs.labsearch('bp'),ignore_index=True)"
   ]
  },
  {
   "cell_type": "code",
   "execution_count": 3,
   "metadata": {},
   "outputs": [
    {
     "data": {
      "text/plain": [
       "'What was the exact reading, if you remember - DIASTOLIC?'"
      ]
     },
     "execution_count": 3,
     "metadata": {},
     "output_type": "execute_result"
    }
   ],
   "source": [
    "mvs.labsearch('pressure').append(mvs.labsearch('bp'),ignore_index=True)['Question'][4]"
   ]
  },
  {
   "cell_type": "markdown",
   "metadata": {},
   "source": [
    "A few variables adddress high blood pressure. We'll have to take a closer look to see which one is best."
   ]
  },
  {
   "cell_type": "code",
   "execution_count": 4,
   "metadata": {},
   "outputs": [
    {
     "data": {
      "text/html": [
       "<div>\n",
       "<style scoped>\n",
       "    .dataframe tbody tr th:only-of-type {\n",
       "        vertical-align: middle;\n",
       "    }\n",
       "\n",
       "    .dataframe tbody tr th {\n",
       "        vertical-align: top;\n",
       "    }\n",
       "\n",
       "    .dataframe thead th {\n",
       "        text-align: right;\n",
       "    }\n",
       "</style>\n",
       "<table border=\"1\" class=\"dataframe\">\n",
       "  <thead>\n",
       "    <tr style=\"text-align: right;\">\n",
       "      <th></th>\n",
       "      <th>A1PA11BC</th>\n",
       "      <th>A1PA29CC</th>\n",
       "      <th>A1PA33</th>\n",
       "      <th>A1PA32S</th>\n",
       "      <th>A1PA32D</th>\n",
       "      <th>A1SA9S</th>\n",
       "      <th>A1PA34</th>\n",
       "      <th>A1PA30</th>\n",
       "      <th>A1PA31</th>\n",
       "    </tr>\n",
       "  </thead>\n",
       "  <tbody>\n",
       "    <tr>\n",
       "      <th>0</th>\n",
       "      <td>INAPP</td>\n",
       "      <td>INAPP</td>\n",
       "      <td>YES</td>\n",
       "      <td>120</td>\n",
       "      <td>70</td>\n",
       "      <td>NO</td>\n",
       "      <td>NO</td>\n",
       "      <td>2</td>\n",
       "      <td>SLIGHTLY RAISED</td>\n",
       "    </tr>\n",
       "    <tr>\n",
       "      <th>1</th>\n",
       "      <td>INAPP</td>\n",
       "      <td>INAPP</td>\n",
       "      <td>NO</td>\n",
       "      <td>DONT KNOW</td>\n",
       "      <td>DONT KNOW</td>\n",
       "      <td>NaN</td>\n",
       "      <td>NO</td>\n",
       "      <td>36</td>\n",
       "      <td>ABOUT NORMAL</td>\n",
       "    </tr>\n",
       "    <tr>\n",
       "      <th>2</th>\n",
       "      <td>INAPP</td>\n",
       "      <td>INAPP</td>\n",
       "      <td>NO</td>\n",
       "      <td>144</td>\n",
       "      <td>84</td>\n",
       "      <td>NO</td>\n",
       "      <td>NO</td>\n",
       "      <td>LESS THAN 1 MONTH</td>\n",
       "      <td>ABOUT NORMAL</td>\n",
       "    </tr>\n",
       "    <tr>\n",
       "      <th>3</th>\n",
       "      <td>INAPP</td>\n",
       "      <td>INAPP</td>\n",
       "      <td>YES</td>\n",
       "      <td>DONT KNOW</td>\n",
       "      <td>DONT KNOW</td>\n",
       "      <td>YES</td>\n",
       "      <td>YES</td>\n",
       "      <td>1</td>\n",
       "      <td>ABOUT NORMAL</td>\n",
       "    </tr>\n",
       "    <tr>\n",
       "      <th>4</th>\n",
       "      <td>INAPP</td>\n",
       "      <td>INAPP</td>\n",
       "      <td>NO</td>\n",
       "      <td>140</td>\n",
       "      <td>90</td>\n",
       "      <td>YES</td>\n",
       "      <td>NO</td>\n",
       "      <td>LESS THAN 1 MONTH</td>\n",
       "      <td>SLIGHTLY RAISED</td>\n",
       "    </tr>\n",
       "  </tbody>\n",
       "</table>\n",
       "</div>"
      ],
      "text/plain": [
       "  A1PA11BC A1PA29CC A1PA33    A1PA32S    A1PA32D A1SA9S A1PA34  \\\n",
       "0    INAPP    INAPP    YES        120         70     NO     NO   \n",
       "1    INAPP    INAPP     NO  DONT KNOW  DONT KNOW    NaN     NO   \n",
       "2    INAPP    INAPP     NO        144         84     NO     NO   \n",
       "3    INAPP    INAPP    YES  DONT KNOW  DONT KNOW    YES    YES   \n",
       "4    INAPP    INAPP     NO        140         90    YES     NO   \n",
       "\n",
       "              A1PA30           A1PA31  \n",
       "0                  2  SLIGHTLY RAISED  \n",
       "1                 36     ABOUT NORMAL  \n",
       "2  LESS THAN 1 MONTH     ABOUT NORMAL  \n",
       "3                  1     ABOUT NORMAL  \n",
       "4  LESS THAN 1 MONTH  SLIGHTLY RAISED  "
      ]
     },
     "execution_count": 4,
     "metadata": {},
     "output_type": "execute_result"
    }
   ],
   "source": [
    "bp_vars = mvs.labsearch('pressure').append(mvs.labsearch('bp'),ignore_index=True)['Variable']\n",
    "tpath = '/Users/alex/Documents/alexdatasci/data_files/MIDUS_1/ICPSR_02760' \\\n",
    "    + '/DS0001/02760-0001-Data.dta'\n",
    "bp_df = pd.read_stata(tpath,columns=bp_vars)\n",
    "bp_df.head()"
   ]
  },
  {
   "cell_type": "markdown",
   "metadata": {},
   "source": [
    "I can already tell that some of these variables aren't gonna work. Let's see which of these variables is complete (or close to it). First, which variables have a lot of 'INAPP' (meaning not answered)?"
   ]
  },
  {
   "cell_type": "code",
   "execution_count": 5,
   "metadata": {},
   "outputs": [
    {
     "data": {
      "text/plain": [
       "A1PA11BC    6192\n",
       "A1PA29CC    6700\n",
       "A1PA33         0\n",
       "A1PA32S       86\n",
       "A1PA32D       86\n",
       "A1SA9S         0\n",
       "A1PA34         0\n",
       "A1PA30         0\n",
       "A1PA31        11\n",
       "dtype: int64"
      ]
     },
     "execution_count": 5,
     "metadata": {},
     "output_type": "execute_result"
    }
   ],
   "source": [
    "bp_df.apply(lambda x: sum(x=='INAPP'))"
   ]
  },
  {
   "cell_type": "markdown",
   "metadata": {},
   "source": [
    "\"A1PA32S\" and \"A1PA32D\" represent Systolic and Diastolic BP readings, respectively (self-reported). How many of those do we have?"
   ]
  },
  {
   "cell_type": "code",
   "execution_count": 6,
   "metadata": {},
   "outputs": [
    {
     "data": {
      "text/html": [
       "<div>\n",
       "<style scoped>\n",
       "    .dataframe tbody tr th:only-of-type {\n",
       "        vertical-align: middle;\n",
       "    }\n",
       "\n",
       "    .dataframe tbody tr th {\n",
       "        vertical-align: top;\n",
       "    }\n",
       "\n",
       "    .dataframe thead th {\n",
       "        text-align: right;\n",
       "    }\n",
       "</style>\n",
       "<table border=\"1\" class=\"dataframe\">\n",
       "  <thead>\n",
       "    <tr style=\"text-align: right;\">\n",
       "      <th></th>\n",
       "      <th>Known</th>\n",
       "      <th>Unknown</th>\n",
       "    </tr>\n",
       "  </thead>\n",
       "  <tbody>\n",
       "    <tr>\n",
       "      <th>A1PA32S</th>\n",
       "      <td>3169</td>\n",
       "      <td>4025</td>\n",
       "    </tr>\n",
       "    <tr>\n",
       "      <th>A1PA32D</th>\n",
       "      <td>3167</td>\n",
       "      <td>4027</td>\n",
       "    </tr>\n",
       "  </tbody>\n",
       "</table>\n",
       "</div>"
      ],
      "text/plain": [
       "         Known  Unknown\n",
       "A1PA32S   3169     4025\n",
       "A1PA32D   3167     4027"
      ]
     },
     "execution_count": 6,
     "metadata": {},
     "output_type": "execute_result"
    }
   ],
   "source": [
    "pd.DataFrame({\n",
    "    'Known': bp_df.iloc[:,3:5].apply(lambda x: sum(~(x=='DONT KNOW') | (x=='INAPP'))),\n",
    "    'Unknown': bp_df.iloc[:,3:5].apply(lambda x: sum((x=='DONT KNOW') | (x=='INAPP')))\n",
    "})"
   ]
  },
  {
   "cell_type": "markdown",
   "metadata": {},
   "source": [
    "This looks bad, but the data is actually two questionnaires. ~7000 completed the phone portion, while about half that completed an additional \"Self-Administered\" questionniare (SAQ). We'll probably stick to those who completed both anyway, which makes this look pretty good. Finally, what about the last two variables (A1PA30 and A1PA31), which represent time since last reading, and whether that reading was high or low?"
   ]
  },
  {
   "cell_type": "code",
   "execution_count": 7,
   "metadata": {},
   "outputs": [
    {
     "data": {
      "text/plain": [
       "103"
      ]
     },
     "execution_count": 7,
     "metadata": {},
     "output_type": "execute_result"
    }
   ],
   "source": [
    "# How many missing time since BP reading?\n",
    "sum((bp_df['A1PA30']=='DONT KNOW') | (bp_df['A1PA30']=='NEVER'))"
   ]
  },
  {
   "cell_type": "code",
   "execution_count": 8,
   "metadata": {},
   "outputs": [
    {
     "data": {
      "text/plain": [
       "ABOUT NORMAL       5128\n",
       "LOW                 921\n",
       "SLIGHTLY RAISED     819\n",
       "HIGH                154\n",
       "DONT KNOW            74\n",
       "INAPP                11\n",
       "REFUSED/MISSING       1\n",
       "Name: A1PA31, dtype: int64"
      ]
     },
     "execution_count": 8,
     "metadata": {},
     "output_type": "execute_result"
    }
   ],
   "source": [
    "# value_counts for BP reading (categorical)\n",
    "bp_df['A1PA31'].value_counts()"
   ]
  },
  {
   "cell_type": "markdown",
   "metadata": {},
   "source": [
    "That looks pretty good. We want the BP reading to be fairly recent, so we can create a variable that indicates SLIGHTLY RAISED or HIGH BP within the last 12 months:"
   ]
  },
  {
   "cell_type": "code",
   "execution_count": 9,
   "metadata": {},
   "outputs": [
    {
     "data": {
      "text/plain": [
       " 0.0    5588\n",
       " 1.0     872\n",
       "NaN      648\n",
       "dtype: int64"
      ]
     },
     "execution_count": 9,
     "metadata": {},
     "output_type": "execute_result"
    }
   ],
   "source": [
    "high_bp = np.where((bp_df['A1PA30']<=12) & \\\n",
    "                   ((bp_df['A1PA31']=='SLIGHTLY RAISED') | \\\n",
    "                    (bp_df['A1PA31']=='HIGH')),\n",
    "                   1,\n",
    "                   np.where((bp_df['A1PA30']=='DONT KNOW') | \\\n",
    "                           (bp_df['A1PA30']=='NEVER') | \\\n",
    "                            (bp_df['A1PA30']>12),\n",
    "                            None,\n",
    "                            0))\n",
    "pd.Series(high_bp).value_counts(dropna=False)"
   ]
  },
  {
   "cell_type": "markdown",
   "metadata": {},
   "source": [
    "Alright, so we have a DV. Now lets decide which predictors to include. Let's take a look at the types of variables available in the dataset. "
   ]
  },
  {
   "cell_type": "code",
   "execution_count": 10,
   "metadata": {},
   "outputs": [
    {
     "data": {
      "text/html": [
       "<div>\n",
       "<style scoped>\n",
       "    .dataframe tbody tr th:only-of-type {\n",
       "        vertical-align: middle;\n",
       "    }\n",
       "\n",
       "    .dataframe tbody tr th {\n",
       "        vertical-align: top;\n",
       "    }\n",
       "\n",
       "    .dataframe thead th {\n",
       "        text-align: right;\n",
       "    }\n",
       "</style>\n",
       "<table border=\"1\" class=\"dataframe\">\n",
       "  <thead>\n",
       "    <tr style=\"text-align: right;\">\n",
       "      <th></th>\n",
       "      <th>Source</th>\n",
       "      <th>Topic</th>\n",
       "    </tr>\n",
       "  </thead>\n",
       "  <tbody>\n",
       "    <tr>\n",
       "      <th>0</th>\n",
       "      <td>Phone</td>\n",
       "      <td>Admin</td>\n",
       "    </tr>\n",
       "    <tr>\n",
       "      <th>1</th>\n",
       "      <td>Phone</td>\n",
       "      <td>Health</td>\n",
       "    </tr>\n",
       "    <tr>\n",
       "      <th>2</th>\n",
       "      <td>Phone</td>\n",
       "      <td>Education, Occupation and Marital Status</td>\n",
       "    </tr>\n",
       "    <tr>\n",
       "      <th>3</th>\n",
       "      <td>Phone</td>\n",
       "      <td>Household Roster and Children</td>\n",
       "    </tr>\n",
       "    <tr>\n",
       "      <th>4</th>\n",
       "      <td>Phone</td>\n",
       "      <td>Living arrangements</td>\n",
       "    </tr>\n",
       "    <tr>\n",
       "      <th>5</th>\n",
       "      <td>Phone</td>\n",
       "      <td>Childhood background</td>\n",
       "    </tr>\n",
       "    <tr>\n",
       "      <th>6</th>\n",
       "      <td>Phone</td>\n",
       "      <td>Life Satisfaction</td>\n",
       "    </tr>\n",
       "    <tr>\n",
       "      <th>7</th>\n",
       "      <td>SAQ</td>\n",
       "      <td>Your Health</td>\n",
       "    </tr>\n",
       "    <tr>\n",
       "      <th>8</th>\n",
       "      <td>SAQ</td>\n",
       "      <td>Health Questions for Women</td>\n",
       "    </tr>\n",
       "    <tr>\n",
       "      <th>9</th>\n",
       "      <td>SAQ</td>\n",
       "      <td>Health Insurance</td>\n",
       "    </tr>\n",
       "    <tr>\n",
       "      <th>10</th>\n",
       "      <td>SAQ</td>\n",
       "      <td>Parents' Health</td>\n",
       "    </tr>\n",
       "    <tr>\n",
       "      <th>11</th>\n",
       "      <td>SAQ</td>\n",
       "      <td>Childhood Family Background</td>\n",
       "    </tr>\n",
       "    <tr>\n",
       "      <th>12</th>\n",
       "      <td>SAQ</td>\n",
       "      <td>Personal Beliefs</td>\n",
       "    </tr>\n",
       "    <tr>\n",
       "      <th>13</th>\n",
       "      <td>SAQ</td>\n",
       "      <td>Images of Life Change</td>\n",
       "    </tr>\n",
       "    <tr>\n",
       "      <th>14</th>\n",
       "      <td>SAQ</td>\n",
       "      <td>Psychological Turning Points</td>\n",
       "    </tr>\n",
       "    <tr>\n",
       "      <th>15</th>\n",
       "      <td>SAQ</td>\n",
       "      <td>Work</td>\n",
       "    </tr>\n",
       "    <tr>\n",
       "      <th>16</th>\n",
       "      <td>SAQ</td>\n",
       "      <td>Finances</td>\n",
       "    </tr>\n",
       "    <tr>\n",
       "      <th>17</th>\n",
       "      <td>SAQ</td>\n",
       "      <td>Community Involvement</td>\n",
       "    </tr>\n",
       "    <tr>\n",
       "      <th>18</th>\n",
       "      <td>SAQ</td>\n",
       "      <td>Your Neighborhood</td>\n",
       "    </tr>\n",
       "    <tr>\n",
       "      <th>19</th>\n",
       "      <td>SAQ</td>\n",
       "      <td>Social Networks</td>\n",
       "    </tr>\n",
       "    <tr>\n",
       "      <th>20</th>\n",
       "      <td>SAQ</td>\n",
       "      <td>Children</td>\n",
       "    </tr>\n",
       "    <tr>\n",
       "      <th>21</th>\n",
       "      <td>SAQ</td>\n",
       "      <td>Marriage or Close Relationship</td>\n",
       "    </tr>\n",
       "    <tr>\n",
       "      <th>22</th>\n",
       "      <td>SAQ</td>\n",
       "      <td>Sexuality</td>\n",
       "    </tr>\n",
       "    <tr>\n",
       "      <th>23</th>\n",
       "      <td>SAQ</td>\n",
       "      <td>Religion and Spirituality</td>\n",
       "    </tr>\n",
       "    <tr>\n",
       "      <th>24</th>\n",
       "      <td>SAQ</td>\n",
       "      <td>Demographics</td>\n",
       "    </tr>\n",
       "    <tr>\n",
       "      <th>25</th>\n",
       "      <td>SAQ</td>\n",
       "      <td>Discrimination</td>\n",
       "    </tr>\n",
       "    <tr>\n",
       "      <th>26</th>\n",
       "      <td>SAQ</td>\n",
       "      <td>Life Overall</td>\n",
       "    </tr>\n",
       "  </tbody>\n",
       "</table>\n",
       "</div>"
      ],
      "text/plain": [
       "   Source                                     Topic\n",
       "0   Phone                                     Admin\n",
       "1   Phone                                    Health\n",
       "2   Phone  Education, Occupation and Marital Status\n",
       "3   Phone             Household Roster and Children\n",
       "4   Phone                       Living arrangements\n",
       "5   Phone                      Childhood background\n",
       "6   Phone                         Life Satisfaction\n",
       "7     SAQ                               Your Health\n",
       "8     SAQ                Health Questions for Women\n",
       "9     SAQ                          Health Insurance\n",
       "10    SAQ                           Parents' Health\n",
       "11    SAQ               Childhood Family Background\n",
       "12    SAQ                          Personal Beliefs\n",
       "13    SAQ                     Images of Life Change\n",
       "14    SAQ              Psychological Turning Points\n",
       "15    SAQ                                      Work\n",
       "16    SAQ                                  Finances\n",
       "17    SAQ                     Community Involvement\n",
       "18    SAQ                         Your Neighborhood\n",
       "19    SAQ                           Social Networks\n",
       "20    SAQ                                  Children\n",
       "21    SAQ            Marriage or Close Relationship\n",
       "22    SAQ                                 Sexuality\n",
       "23    SAQ                 Religion and Spirituality\n",
       "24    SAQ                              Demographics\n",
       "25    SAQ                            Discrimination\n",
       "26    SAQ                              Life Overall"
      ]
     },
     "execution_count": 10,
     "metadata": {},
     "output_type": "execute_result"
    }
   ],
   "source": [
    "mvs.topicsum"
   ]
  },
  {
   "cell_type": "markdown",
   "metadata": {},
   "source": [
    "Somewhat arbitrarily, I'll include variables related to Life Satisfaction, Personal Beliefs, Work, Finances, Community Involvement, Your Neighborhood, Social Networks, and Life Overall. If we were constantly getting a steady stream of all these variables, then including everything could be justified. But since that's not the case, I'll subset.\n",
    "\n",
    "I want to omit any variable that is a scale constructed from many items. This is where my pdf parsing work can help. I was able to extract all the variables that were constructed scales, so I can filter them out. Let's read in the dataset with only the variables I want, then add the high_bp variable. I'll then inspect the shape of the df."
   ]
  },
  {
   "cell_type": "code",
   "execution_count": 11,
   "metadata": {},
   "outputs": [
    {
     "data": {
      "text/plain": [
       "(7108, 473)"
      ]
     },
     "execution_count": 11,
     "metadata": {},
     "output_type": "execute_result"
    }
   ],
   "source": [
    "# Get the scale variables (want to omit these)\n",
    "scalevars = mvs.scaledf['Varname'][~mvs.scaledf['Varname'].isna()]\n",
    "# Get topic variables\n",
    "topics = ['Life Satisfaction', 'Personal Beliefs', 'Work', 'Finances', \n",
    "          'Community Involvement', 'Your Neighborhood', \n",
    "          'Social Networks', 'Life Overall']\n",
    "# varbytopic is a function I wrote that returns variables by topic by parsing XML\n",
    "topicvars = [mvs.varbytopic(i)['Variable'] for i in topics]\n",
    "topicvars = pd.Series([i for j in topicvars for i in j])\n",
    "# Drop the constructed scale variables\n",
    "topicvars = topicvars[~topicvars.isin(scalevars)]\n",
    "# Import data from the STATA file.\n",
    "df = pd.read_stata(tpath,columns=topicvars)\n",
    "# Add the high_bp DV\n",
    "df['high_bp'] = high_bp\n",
    "# Get shape\n",
    "df.shape"
   ]
  },
  {
   "cell_type": "markdown",
   "metadata": {},
   "source": [
    "I already know that we're only going to be able to use all of these observations. Let's see how many are complete cases. First, convert \"DONT KNOW\", \"INAPP\", and \"REFUSED/MISSING\" to None."
   ]
  },
  {
   "cell_type": "code",
   "execution_count": 12,
   "metadata": {},
   "outputs": [],
   "source": [
    "replace_vals = {'DONT KNOW':np.nan, 'REFUSED/MISSING':np.nan, 'INAPP':np.nan}\n",
    "df = df.replace(replace_vals)"
   ]
  },
  {
   "cell_type": "markdown",
   "metadata": {},
   "source": [
    "Now I'll generate a histogram to see frequencies of missing values among the variables."
   ]
  },
  {
   "cell_type": "code",
   "execution_count": 13,
   "metadata": {},
   "outputs": [
    {
     "data": {
      "text/plain": [
       "(array([ 11., 383.,  15.,  57.,   3.,   0.,   0.,   0.,   1.,   3.]),\n",
       " array([  11. ,  720.7, 1430.4, 2140.1, 2849.8, 3559.5, 4269.2, 4978.9,\n",
       "        5688.6, 6398.3, 7108. ]),\n",
       " <a list of 10 Patch objects>)"
      ]
     },
     "execution_count": 13,
     "metadata": {},
     "output_type": "execute_result"
    },
    {
     "data": {
      "image/png": "[encoded data removed]",
      "text/plain": [
       "<Figure size 432x288 with 1 Axes>"
      ]
     },
     "metadata": {},
     "output_type": "display_data"
    }
   ],
   "source": [
    "varmiss = df.apply(lambda x: sum(x.isna()))\n",
    "plt.hist(varmiss)"
   ]
  },
  {
   "cell_type": "markdown",
   "metadata": {},
   "source": [
    "Most variables have about 1000 missing values. I'll plot the sample size I can get by the number of variables (sorted by number of missing values) kept in the dataframe. "
   ]
  },
  {
   "cell_type": "code",
   "execution_count": 14,
   "metadata": {},
   "outputs": [
    {
     "data": {
      "text/plain": [
       "256    2605.0\n",
       "257    2586.0\n",
       "258    2549.0\n",
       "259    2534.0\n",
       "260    2516.0\n",
       "dtype: float64"
      ]
     },
     "execution_count": 14,
     "metadata": {},
     "output_type": "execute_result"
    },
    {
     "data": {
      "image/png": "[encoded data removed]",
      "text/plain": [
       "<Figure size 432x288 with 1 Axes>"
      ]
     },
     "metadata": {},
     "output_type": "display_data"
    }
   ],
   "source": [
    "df = df[varmiss.sort_values().index]\n",
    "sample_size = np.array([np.nan]).repeat(df.shape[1])\n",
    "cum_cc = np.array([False]).repeat(df.shape[0])\n",
    "for i in range(df.shape[1]):\n",
    "    cum_cc = pd.DataFrame({'prev_index':cum_cc,\n",
    "                           'current_index':df.iloc[:,i].isna()}).sum(axis=1)!=0\n",
    "    sample_size[i] = sum(cum_cc==False)\n",
    "plt.plot(sample_size)\n",
    "plt.axhline(2500)\n",
    "pd.Series(sample_size[sample_size>=2500]).tail()"
   ]
  },
  {
   "cell_type": "markdown",
   "metadata": {},
   "source": [
    "Let's say that I want at least 500 cases in my test set, and I want my test set to be 20% of the total set. That means I'll need a total sample size of at least 2500, which means I can include 261 of my variables of interest."
   ]
  },
  {
   "cell_type": "code",
   "execution_count": 15,
   "metadata": {},
   "outputs": [],
   "source": [
    "df = df.iloc[:,:261]"
   ]
  },
  {
   "cell_type": "markdown",
   "metadata": {},
   "source": [
    "Some of these variables are ordinal, some are categorical, and some appear categorical but are actually continuous. More cleaning/recoding is required. "
   ]
  },
  {
   "cell_type": "code",
   "execution_count": 23,
   "metadata": {},
   "outputs": [],
   "source": [
    "vc_list = list(np.array([np.nan]).repeat(sum(df.dtypes=='object')))\n",
    "for i in range(len(vc_list)):\n",
    "    valcounts = df.loc[:,pd.Series(df.dtypes=='object')].iloc[:,i].value_counts()\n",
    "    onlystrs = [i for i in valcounts.index if type(i)==str]\n",
    "    ordstrings = pd.Series(onlystrs).sort_values().reset_index(drop=True)\n",
    "    vc_list[i] = pd.DataFrame({i:ordstrings}).transpose()"
   ]
  },
  {
   "cell_type": "code",
   "execution_count": 24,
   "metadata": {},
   "outputs": [
    {
     "data": {
      "text/html": [
       "<div>\n",
       "<style scoped>\n",
       "    .dataframe tbody tr th:only-of-type {\n",
       "        vertical-align: middle;\n",
       "    }\n",
       "\n",
       "    .dataframe tbody tr th {\n",
       "        vertical-align: top;\n",
       "    }\n",
       "\n",
       "    .dataframe thead th {\n",
       "        text-align: right;\n",
       "    }\n",
       "</style>\n",
       "<table border=\"1\" class=\"dataframe\">\n",
       "  <thead>\n",
       "    <tr style=\"text-align: right;\">\n",
       "      <th></th>\n",
       "      <th>0</th>\n",
       "      <th>1</th>\n",
       "      <th>2</th>\n",
       "      <th>3</th>\n",
       "      <th>4</th>\n",
       "      <th>5</th>\n",
       "      <th>6</th>\n",
       "      <th>7</th>\n",
       "    </tr>\n",
       "  </thead>\n",
       "  <tbody>\n",
       "    <tr>\n",
       "      <th>0</th>\n",
       "      <td>A LITTLE</td>\n",
       "      <td>A LOT</td>\n",
       "      <td>NOT AT ALL</td>\n",
       "      <td>SOMEWHAT</td>\n",
       "      <td>NaN</td>\n",
       "      <td>NaN</td>\n",
       "      <td>NaN</td>\n",
       "      <td>NaN</td>\n",
       "    </tr>\n",
       "    <tr>\n",
       "      <th>1</th>\n",
       "      <td>EXCELLENT</td>\n",
       "      <td>FAIR</td>\n",
       "      <td>GOOD</td>\n",
       "      <td>POOR</td>\n",
       "      <td>VERY GOOD</td>\n",
       "      <td>NaN</td>\n",
       "      <td>NaN</td>\n",
       "      <td>NaN</td>\n",
       "    </tr>\n",
       "    <tr>\n",
       "      <th>2</th>\n",
       "      <td>AGREE</td>\n",
       "      <td>DISAGREE</td>\n",
       "      <td>NaN</td>\n",
       "      <td>NaN</td>\n",
       "      <td>NaN</td>\n",
       "      <td>NaN</td>\n",
       "      <td>NaN</td>\n",
       "      <td>NaN</td>\n",
       "    </tr>\n",
       "    <tr>\n",
       "      <th>3</th>\n",
       "      <td>ONLY A LITTLE</td>\n",
       "      <td>SOMEWHAT</td>\n",
       "      <td>STRONGLY</td>\n",
       "      <td>NaN</td>\n",
       "      <td>NaN</td>\n",
       "      <td>NaN</td>\n",
       "      <td>NaN</td>\n",
       "      <td>NaN</td>\n",
       "    </tr>\n",
       "    <tr>\n",
       "      <th>4</th>\n",
       "      <td>A LITTLE</td>\n",
       "      <td>A LOT</td>\n",
       "      <td>NOT AT ALL</td>\n",
       "      <td>SOME</td>\n",
       "      <td>NaN</td>\n",
       "      <td>NaN</td>\n",
       "      <td>NaN</td>\n",
       "      <td>NaN</td>\n",
       "    </tr>\n",
       "    <tr>\n",
       "      <th>5</th>\n",
       "      <td>NOT AT ALL</td>\n",
       "      <td>VERY MUCH</td>\n",
       "      <td>NaN</td>\n",
       "      <td>NaN</td>\n",
       "      <td>NaN</td>\n",
       "      <td>NaN</td>\n",
       "      <td>NaN</td>\n",
       "      <td>NaN</td>\n",
       "    </tr>\n",
       "    <tr>\n",
       "      <th>6</th>\n",
       "      <td>BEST</td>\n",
       "      <td>WORST</td>\n",
       "      <td>NaN</td>\n",
       "      <td>NaN</td>\n",
       "      <td>NaN</td>\n",
       "      <td>NaN</td>\n",
       "      <td>NaN</td>\n",
       "      <td>NaN</td>\n",
       "    </tr>\n",
       "    <tr>\n",
       "      <th>7</th>\n",
       "      <td>NONE</td>\n",
       "      <td>VERY MUCH</td>\n",
       "      <td>NaN</td>\n",
       "      <td>NaN</td>\n",
       "      <td>NaN</td>\n",
       "      <td>NaN</td>\n",
       "      <td>NaN</td>\n",
       "      <td>NaN</td>\n",
       "    </tr>\n",
       "    <tr>\n",
       "      <th>8</th>\n",
       "      <td>JUST ENOUGH MONEY</td>\n",
       "      <td>MORE MONEY THAN YOU NEED</td>\n",
       "      <td>NOT ENOUGH MONEY</td>\n",
       "      <td>NaN</td>\n",
       "      <td>NaN</td>\n",
       "      <td>NaN</td>\n",
       "      <td>NaN</td>\n",
       "      <td>NaN</td>\n",
       "    </tr>\n",
       "    <tr>\n",
       "      <th>9</th>\n",
       "      <td>NOT AT ALL DIFFICULT</td>\n",
       "      <td>NOT VERY DIFFICULT</td>\n",
       "      <td>SOMEWHAT DIFFICULT</td>\n",
       "      <td>VERY DIFFICULT</td>\n",
       "      <td>NaN</td>\n",
       "      <td>NaN</td>\n",
       "      <td>NaN</td>\n",
       "      <td>NaN</td>\n",
       "    </tr>\n",
       "    <tr>\n",
       "      <th>10</th>\n",
       "      <td>1-3 TIMES A MONTH</td>\n",
       "      <td>ABOUT ONCE A WEEK</td>\n",
       "      <td>ALMOST EVERY DAY</td>\n",
       "      <td>LESS THAN ONCE A MONTH</td>\n",
       "      <td>NEVER OR HARDLY EVER</td>\n",
       "      <td>SEVERAL TIMES A WEEK</td>\n",
       "      <td>NaN</td>\n",
       "      <td>NaN</td>\n",
       "    </tr>\n",
       "    <tr>\n",
       "      <th>11</th>\n",
       "      <td>NEVER</td>\n",
       "      <td>OFTEN</td>\n",
       "      <td>RARELY</td>\n",
       "      <td>SOMETIMES</td>\n",
       "      <td>NaN</td>\n",
       "      <td>NaN</td>\n",
       "      <td>NaN</td>\n",
       "      <td>NaN</td>\n",
       "    </tr>\n",
       "    <tr>\n",
       "      <th>12</th>\n",
       "      <td>NONE</td>\n",
       "      <td>VERY GREAT</td>\n",
       "      <td>NaN</td>\n",
       "      <td>NaN</td>\n",
       "      <td>NaN</td>\n",
       "      <td>NaN</td>\n",
       "      <td>NaN</td>\n",
       "      <td>NaN</td>\n",
       "    </tr>\n",
       "    <tr>\n",
       "      <th>13</th>\n",
       "      <td>AGREE A LITTLE</td>\n",
       "      <td>AGREE SOMEWHAT</td>\n",
       "      <td>AGREE STRONGLY</td>\n",
       "      <td>DISAGREE A LITTLE</td>\n",
       "      <td>DISAGREE SOMEWHAT</td>\n",
       "      <td>DISAGREE STRONGLY</td>\n",
       "      <td>NaN</td>\n",
       "      <td>NaN</td>\n",
       "    </tr>\n",
       "    <tr>\n",
       "      <th>14</th>\n",
       "      <td>2 OR 3 TIMES A MONTH</td>\n",
       "      <td>ABOUT ONCE A DAY</td>\n",
       "      <td>ABOUT ONCE A MONTH</td>\n",
       "      <td>ABOUT ONCE A WEEK</td>\n",
       "      <td>LESS THAN ONCE A MONTH</td>\n",
       "      <td>NEVER OR HARDLY EVER</td>\n",
       "      <td>SEVERAL TIMES A DAY</td>\n",
       "      <td>SEVERAL TIMES A WEEK</td>\n",
       "    </tr>\n",
       "    <tr>\n",
       "      <th>15</th>\n",
       "      <td>A COUPLE TIMES A WEEK</td>\n",
       "      <td>LESS THAN ONCE A MONTH</td>\n",
       "      <td>MORE OFTEN THAN A COUPLE OF TIMES A WEEK</td>\n",
       "      <td>NEVER</td>\n",
       "      <td>ONCE OR TWICE A MONTH</td>\n",
       "      <td>THREE OR FOUR TIMES A MONTH</td>\n",
       "      <td>NaN</td>\n",
       "      <td>NaN</td>\n",
       "    </tr>\n",
       "    <tr>\n",
       "      <th>16</th>\n",
       "      <td>ALL OF THE TIME</td>\n",
       "      <td>MOST OF THE TIME</td>\n",
       "      <td>NEVER</td>\n",
       "      <td>RARELY</td>\n",
       "      <td>SOMETIMES</td>\n",
       "      <td>NaN</td>\n",
       "      <td>NaN</td>\n",
       "      <td>NaN</td>\n",
       "    </tr>\n",
       "    <tr>\n",
       "      <th>17</th>\n",
       "      <td>A LITTLE</td>\n",
       "      <td>A LOT</td>\n",
       "      <td>DOES NOT APPLY</td>\n",
       "      <td>NOT AT ALL</td>\n",
       "      <td>SOME</td>\n",
       "      <td>NaN</td>\n",
       "      <td>NaN</td>\n",
       "      <td>NaN</td>\n",
       "    </tr>\n",
       "    <tr>\n",
       "      <th>18</th>\n",
       "      <td>OWN HOME OUTRIGHT</td>\n",
       "      <td>PAYING ON A MORTGAGE</td>\n",
       "      <td>RENT</td>\n",
       "      <td>NaN</td>\n",
       "      <td>NaN</td>\n",
       "      <td>NaN</td>\n",
       "      <td>NaN</td>\n",
       "      <td>NaN</td>\n",
       "    </tr>\n",
       "    <tr>\n",
       "      <th>19</th>\n",
       "      <td>NONE OR DOES NOT APPLY</td>\n",
       "      <td>NaN</td>\n",
       "      <td>NaN</td>\n",
       "      <td>NaN</td>\n",
       "      <td>NaN</td>\n",
       "      <td>NaN</td>\n",
       "      <td>NaN</td>\n",
       "      <td>NaN</td>\n",
       "    </tr>\n",
       "    <tr>\n",
       "      <th>20</th>\n",
       "      <td>NO</td>\n",
       "      <td>YES</td>\n",
       "      <td>NaN</td>\n",
       "      <td>NaN</td>\n",
       "      <td>NaN</td>\n",
       "      <td>NaN</td>\n",
       "      <td>NaN</td>\n",
       "      <td>NaN</td>\n",
       "    </tr>\n",
       "  </tbody>\n",
       "</table>\n",
       "</div>"
      ],
      "text/plain": [
       "                         0                         1  \\\n",
       "0                 A LITTLE                     A LOT   \n",
       "1                EXCELLENT                      FAIR   \n",
       "2                    AGREE                  DISAGREE   \n",
       "3            ONLY A LITTLE                  SOMEWHAT   \n",
       "4                 A LITTLE                     A LOT   \n",
       "5               NOT AT ALL                 VERY MUCH   \n",
       "6                     BEST                     WORST   \n",
       "7                     NONE                 VERY MUCH   \n",
       "8        JUST ENOUGH MONEY  MORE MONEY THAN YOU NEED   \n",
       "9     NOT AT ALL DIFFICULT        NOT VERY DIFFICULT   \n",
       "10       1-3 TIMES A MONTH         ABOUT ONCE A WEEK   \n",
       "11                   NEVER                     OFTEN   \n",
       "12                    NONE                VERY GREAT   \n",
       "13          AGREE A LITTLE            AGREE SOMEWHAT   \n",
       "14    2 OR 3 TIMES A MONTH          ABOUT ONCE A DAY   \n",
       "15   A COUPLE TIMES A WEEK    LESS THAN ONCE A MONTH   \n",
       "16         ALL OF THE TIME          MOST OF THE TIME   \n",
       "17                A LITTLE                     A LOT   \n",
       "18       OWN HOME OUTRIGHT      PAYING ON A MORTGAGE   \n",
       "19  NONE OR DOES NOT APPLY                       NaN   \n",
       "20                      NO                       YES   \n",
       "\n",
       "                                           2                       3  \\\n",
       "0                                 NOT AT ALL                SOMEWHAT   \n",
       "1                                       GOOD                    POOR   \n",
       "2                                        NaN                     NaN   \n",
       "3                                   STRONGLY                     NaN   \n",
       "4                                 NOT AT ALL                    SOME   \n",
       "5                                        NaN                     NaN   \n",
       "6                                        NaN                     NaN   \n",
       "7                                        NaN                     NaN   \n",
       "8                           NOT ENOUGH MONEY                     NaN   \n",
       "9                         SOMEWHAT DIFFICULT          VERY DIFFICULT   \n",
       "10                          ALMOST EVERY DAY  LESS THAN ONCE A MONTH   \n",
       "11                                    RARELY               SOMETIMES   \n",
       "12                                       NaN                     NaN   \n",
       "13                            AGREE STRONGLY       DISAGREE A LITTLE   \n",
       "14                        ABOUT ONCE A MONTH       ABOUT ONCE A WEEK   \n",
       "15  MORE OFTEN THAN A COUPLE OF TIMES A WEEK                   NEVER   \n",
       "16                                     NEVER                  RARELY   \n",
       "17                            DOES NOT APPLY              NOT AT ALL   \n",
       "18                                      RENT                     NaN   \n",
       "19                                       NaN                     NaN   \n",
       "20                                       NaN                     NaN   \n",
       "\n",
       "                         4                            5                    6  \\\n",
       "0                      NaN                          NaN                  NaN   \n",
       "1                VERY GOOD                          NaN                  NaN   \n",
       "2                      NaN                          NaN                  NaN   \n",
       "3                      NaN                          NaN                  NaN   \n",
       "4                      NaN                          NaN                  NaN   \n",
       "5                      NaN                          NaN                  NaN   \n",
       "6                      NaN                          NaN                  NaN   \n",
       "7                      NaN                          NaN                  NaN   \n",
       "8                      NaN                          NaN                  NaN   \n",
       "9                      NaN                          NaN                  NaN   \n",
       "10    NEVER OR HARDLY EVER         SEVERAL TIMES A WEEK                  NaN   \n",
       "11                     NaN                          NaN                  NaN   \n",
       "12                     NaN                          NaN                  NaN   \n",
       "13       DISAGREE SOMEWHAT            DISAGREE STRONGLY                  NaN   \n",
       "14  LESS THAN ONCE A MONTH         NEVER OR HARDLY EVER  SEVERAL TIMES A DAY   \n",
       "15   ONCE OR TWICE A MONTH  THREE OR FOUR TIMES A MONTH                  NaN   \n",
       "16               SOMETIMES                          NaN                  NaN   \n",
       "17                    SOME                          NaN                  NaN   \n",
       "18                     NaN                          NaN                  NaN   \n",
       "19                     NaN                          NaN                  NaN   \n",
       "20                     NaN                          NaN                  NaN   \n",
       "\n",
       "                       7  \n",
       "0                    NaN  \n",
       "1                    NaN  \n",
       "2                    NaN  \n",
       "3                    NaN  \n",
       "4                    NaN  \n",
       "5                    NaN  \n",
       "6                    NaN  \n",
       "7                    NaN  \n",
       "8                    NaN  \n",
       "9                    NaN  \n",
       "10                   NaN  \n",
       "11                   NaN  \n",
       "12                   NaN  \n",
       "13                   NaN  \n",
       "14  SEVERAL TIMES A WEEK  \n",
       "15                   NaN  \n",
       "16                   NaN  \n",
       "17                   NaN  \n",
       "18                   NaN  \n",
       "19                   NaN  \n",
       "20                   NaN  "
      ]
     },
     "execution_count": 24,
     "metadata": {},
     "output_type": "execute_result"
    }
   ],
   "source": [
    "obvars = pd.concat(vc_list,ignore_index=True)\n",
    "obvars.index = df.loc[:,pd.Series(df.dtypes=='object')].columns\n",
    "obkeys = obvars.drop_duplicates().reset_index(drop=True)"
   ]
  },
  {
   "cell_type": "code",
   "execution_count": 36,
   "metadata": {},
   "outputs": [
    {
     "name": "stdout",
     "output_type": "stream",
     "text": [
      "0    EXCELLENT\n",
      "1         FAIR\n",
      "2         GOOD\n",
      "3         POOR\n",
      "4    VERY GOOD\n",
      "5          NaN\n",
      "6          NaN\n",
      "7          NaN\n",
      "Name: 1, dtype: object\n"
     ]
    },
    {
     "data": {
      "text/plain": [
       "{'EXCELLENT': 4, 'FAIR': 1, 'GOOD': 2, 'POOR': 0, 'VERY GOOD': 3}"
      ]
     },
     "execution_count": 36,
     "metadata": {},
     "output_type": "execute_result"
    }
   ],
   "source": [
    "print(obkeys.transpose()[1])\n",
    "dict(zip(obkeys.transpose()[1][~obkeys.transpose()[1].isna()],[4,1,2,0,3]))"
   ]
  },
  {
   "cell_type": "code",
   "execution_count": 37,
   "metadata": {},
   "outputs": [
    {
     "data": {
      "text/plain": [
       "[{'A LITTLE': 1, 'A LOT': 3, 'NOT AT ALL': 0, 'SOMEWHAT': 2},\n",
       " {'EXCELLENT': 4, 'FAIR': 1, 'GOOD': 2, 'POOR': 0, 'VERY GOOD': 3}]"
      ]
     },
     "execution_count": 37,
     "metadata": {},
     "output_type": "execute_result"
    }
   ],
   "source": [
    "\n",
    "[\n",
    "dict(zip(obkeys.transpose()[0][~obkeys.transpose()[0].isna()],[1,3,0,2])),\n",
    "dict(zip(obkeys.transpose()[1][~obkeys.transpose()[1].isna()],[4,1,2,0,3]))\n",
    "]"
   ]
  },
  {
   "cell_type": "code",
   "execution_count": null,
   "metadata": {},
   "outputs": [],
   "source": []
  },
  {
   "cell_type": "code",
   "execution_count": null,
   "metadata": {},
   "outputs": [],
   "source": []
  },
  {
   "cell_type": "code",
   "execution_count": 120,
   "metadata": {},
   "outputs": [],
   "source": [
    "b = pd.DataFrame({'b':[1,2,3,'aksjd',np.nan,'a','b','c']})"
   ]
  },
  {
   "cell_type": "code",
   "execution_count": 141,
   "metadata": {},
   "outputs": [
    {
     "data": {
      "text/plain": [
       "0     True\n",
       "1     True\n",
       "2     True\n",
       "3    False\n",
       "4     True\n",
       "5    False\n",
       "6    False\n",
       "7    False\n",
       "Name: b, dtype: bool"
      ]
     },
     "execution_count": 141,
     "metadata": {},
     "output_type": "execute_result"
    }
   ],
   "source": [
    "b['b'].apply(lambda x: type(x)!=str)"
   ]
  },
  {
   "cell_type": "code",
   "execution_count": 139,
   "metadata": {},
   "outputs": [
    {
     "data": {
      "text/plain": [
       "'aksjd'"
      ]
     },
     "execution_count": 139,
     "metadata": {},
     "output_type": "execute_result"
    }
   ],
   "source": [
    "b['b'][3]"
   ]
  },
  {
   "cell_type": "code",
   "execution_count": 119,
   "metadata": {},
   "outputs": [
    {
     "data": {
      "text/html": [
       "<div>\n",
       "<style scoped>\n",
       "    .dataframe tbody tr th:only-of-type {\n",
       "        vertical-align: middle;\n",
       "    }\n",
       "\n",
       "    .dataframe tbody tr th {\n",
       "        vertical-align: top;\n",
       "    }\n",
       "\n",
       "    .dataframe thead th {\n",
       "        text-align: right;\n",
       "    }\n",
       "</style>\n",
       "<table border=\"1\" class=\"dataframe\">\n",
       "  <thead>\n",
       "    <tr style=\"text-align: right;\">\n",
       "      <th></th>\n",
       "      <th>0</th>\n",
       "      <th>1</th>\n",
       "      <th>2</th>\n",
       "      <th>3</th>\n",
       "      <th>4</th>\n",
       "    </tr>\n",
       "  </thead>\n",
       "  <tbody>\n",
       "    <tr>\n",
       "      <th>0</th>\n",
       "      <td>a</td>\n",
       "      <td>b</td>\n",
       "      <td>c</td>\n",
       "      <td>NaN</td>\n",
       "      <td>NaN</td>\n",
       "    </tr>\n",
       "    <tr>\n",
       "      <th>1</th>\n",
       "      <td>b</td>\n",
       "      <td>r</td>\n",
       "      <td>k</td>\n",
       "      <td>s</td>\n",
       "      <td>d</td>\n",
       "    </tr>\n",
       "    <tr>\n",
       "      <th>2</th>\n",
       "      <td>d</td>\n",
       "      <td>d</td>\n",
       "      <td>NaN</td>\n",
       "      <td>NaN</td>\n",
       "      <td>NaN</td>\n",
       "    </tr>\n",
       "  </tbody>\n",
       "</table>\n",
       "</div>"
      ],
      "text/plain": [
       "   0  1    2    3    4\n",
       "0  a  b    c  NaN  NaN\n",
       "1  b  r    k    s    d\n",
       "2  d  d  NaN  NaN  NaN"
      ]
     },
     "execution_count": 119,
     "metadata": {},
     "output_type": "execute_result"
    }
   ],
   "source": [
    "pd.concat([a.transpose(),b.transpose(),\n",
    "          c.transpose()],ignore_index=True).sort_values(0,axis=1)"
   ]
  },
  {
   "cell_type": "code",
   "execution_count": 75,
   "metadata": {},
   "outputs": [
    {
     "data": {
      "text/plain": [
       "Index(['SOMEWHAT', 'A LOT', 'A LITTLE', 'NOT AT ALL'], dtype='object')"
      ]
     },
     "execution_count": 75,
     "metadata": {},
     "output_type": "execute_result"
    }
   ],
   "source": [
    "df.loc[:,pd.Series(df.dtypes=='object')].iloc[:,0].value_counts().index"
   ]
  },
  {
   "cell_type": "code",
   "execution_count": 252,
   "metadata": {},
   "outputs": [
    {
     "data": {
      "text/plain": [
       "a     True\n",
       "b     True\n",
       "c    False\n",
       "d     True\n",
       "e    False\n",
       "dtype: bool"
      ]
     },
     "execution_count": 252,
     "metadata": {},
     "output_type": "execute_result"
    }
   ],
   "source": [
    "tdf = pd.DataFrame({'a':[1,2,3,np.nan],\n",
    "    'b':[1,2,3,4],\n",
    "    'c':['a',2,'4',np.nan],\n",
    "    'd':[1,2,3,np.nan],\n",
    "    'e':['a',2,'4',np.nan]\n",
    "}).transpose()\n",
    "tdf.apply(lambda x: list(x)[0]==list(tdf.iloc[0,:])[0],axis=1)"
   ]
  },
  {
   "cell_type": "code",
   "execution_count": 254,
   "metadata": {},
   "outputs": [
    {
     "data": {
      "text/plain": [
       "False"
      ]
     },
     "execution_count": 254,
     "metadata": {},
     "output_type": "execute_result"
    }
   ],
   "source": [
    "[1,2,3,np.nan]==[1,2,3,4]"
   ]
  },
  {
   "cell_type": "code",
   "execution_count": 248,
   "metadata": {},
   "outputs": [
    {
     "data": {
      "text/plain": [
       "True"
      ]
     },
     "execution_count": 248,
     "metadata": {},
     "output_type": "execute_result"
    }
   ],
   "source": [
    "list(tdf.iloc[3,:])[0]==list(tdf.iloc[0,:])[0]"
   ]
  },
  {
   "cell_type": "code",
   "execution_count": 243,
   "metadata": {},
   "outputs": [
    {
     "data": {
      "text/plain": [
       "[1.0, 2.0, 3.0, nan]"
      ]
     },
     "execution_count": 243,
     "metadata": {},
     "output_type": "execute_result"
    }
   ],
   "source": [
    "list(tdf.iloc[0,:])"
   ]
  },
  {
   "cell_type": "code",
   "execution_count": 245,
   "metadata": {},
   "outputs": [
    {
     "data": {
      "text/plain": [
       "True"
      ]
     },
     "execution_count": 245,
     "metadata": {},
     "output_type": "execute_result"
    }
   ],
   "source": [
    "[1.0, 2.0, 3.0, np.nan]==[1.0, 2.0, 3.0, np.nan]"
   ]
  },
  {
   "cell_type": "code",
   "execution_count": null,
   "metadata": {},
   "outputs": [],
   "source": []
  },
  {
   "cell_type": "code",
   "execution_count": null,
   "metadata": {},
   "outputs": [],
   "source": []
  },
  {
   "cell_type": "code",
   "execution_count": null,
   "metadata": {},
   "outputs": [],
   "source": []
  },
  {
   "cell_type": "code",
   "execution_count": null,
   "metadata": {},
   "outputs": [],
   "source": []
  },
  {
   "cell_type": "code",
   "execution_count": null,
   "metadata": {},
   "outputs": [],
   "source": []
  },
  {
   "cell_type": "code",
   "execution_count": null,
   "metadata": {},
   "outputs": [],
   "source": []
  },
  {
   "cell_type": "markdown",
   "metadata": {},
   "source": [
    "A lot of these variables are categorical or ordinal. I'll need to make dummy variables for those."
   ]
  },
  {
   "cell_type": "code",
   "execution_count": 16,
   "metadata": {},
   "outputs": [],
   "source": [
    "df_dum = pd.concat((df.loc[:,pd.Series(df.dtypes==np.float64)], \n",
    "                pd.get_dummies(df.loc[:,pd.Series(df.dtypes!=np.float64)],\n",
    "                               prefix=df.loc[:,pd.Series(df.dtypes!=np.float64)].columns)),\n",
    "                  axis=1)"
   ]
  },
  {
   "cell_type": "markdown",
   "metadata": {},
   "source": [
    "Now I'll split the dataset into train and test sets."
   ]
  },
  {
   "cell_type": "code",
   "execution_count": 17,
   "metadata": {},
   "outputs": [],
   "source": [
    "X_train, X_test, y_train, y_test = train_test_split(df_dum.drop(['high_bp'],axis=1), \n",
    "                                                    df_dum['high_bp'], test_size = 0.20)  "
   ]
  },
  {
   "cell_type": "code",
   "execution_count": 86,
   "metadata": {},
   "outputs": [],
   "source": [
    "clf = svm.SVC(kernel='linear')"
   ]
  },
  {
   "cell_type": "code",
   "execution_count": null,
   "metadata": {},
   "outputs": [],
   "source": []
  },
  {
   "cell_type": "code",
   "execution_count": null,
   "metadata": {},
   "outputs": [],
   "source": []
  }
 ],
 "metadata": {
  "kernelspec": {
   "display_name": "Python 3",
   "language": "python",
   "name": "python3"
  },
  "language_info": {
   "codemirror_mode": {
    "name": "ipython",
    "version": 3
   },
   "file_extension": ".py",
   "mimetype": "text/x-python",
   "name": "python",
   "nbconvert_exporter": "python",
   "pygments_lexer": "ipython3",
   "version": "3.6.6"
  }
 },
 "nbformat": 4,
 "nbformat_minor": 2
}

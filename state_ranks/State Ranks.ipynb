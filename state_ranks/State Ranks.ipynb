{
 "cells": [
  {
   "cell_type": "code",
   "execution_count": 64,
   "metadata": {},
   "outputs": [],
   "source": [
    "# wiki tables extracted using:\n",
    "# https://github.com/rocheio/wiki-table-scrape"
   ]
  },
  {
   "cell_type": "code",
   "execution_count": 32,
   "metadata": {},
   "outputs": [],
   "source": [
    "import wikitablescrape\n",
    "import pandas as pd\n",
    "import numpy as np\n",
    "import pickle\n",
    "\n",
    "state_ranks = {}"
   ]
  },
  {
   "cell_type": "code",
   "execution_count": 91,
   "metadata": {},
   "outputs": [],
   "source": [
    "# African-American Population\n",
    "wikitablescrape.scrape(\n",
    "    url='https://en.wikipedia.org/wiki/List_of_U.S._states_by_African-American_population',\n",
    "    output_name='afam_pop'\n",
    ")\n",
    "df = pd.read_csv('afam_pop/afam_pop.csv')\n"
   ]
  },
  {
   "cell_type": "code",
   "execution_count": 93,
   "metadata": {},
   "outputs": [],
   "source": [
    "td = dict(zip(df['State or territory'],\n",
    "                                   df['Rank']))\n",
    "state_ranks['afam_pop'] = td"
   ]
  },
  {
   "cell_type": "code",
   "execution_count": 96,
   "metadata": {},
   "outputs": [],
   "source": [
    "# Land Area\n",
    "wikitablescrape.scrape(\n",
    "    url='https://en.wikipedia.org/wiki/List_of_U.S._states_by_area',\n",
    "    output_name='land_area'\n",
    ")\n",
    "df = pd.read_csv('land_area/land_area.csv')"
   ]
  },
  {
   "cell_type": "code",
   "execution_count": 97,
   "metadata": {},
   "outputs": [],
   "source": [
    "td = dict(zip(df.reset_index().iloc[1:,].iloc[:,0],\n",
    "              df.reset_index().iloc[1:,].loc[:,'level_4']))\n",
    "state_ranks['land_area'] = {k:int(v) for k,v in td.items() if type(v) is str }\n"
   ]
  },
  {
   "cell_type": "code",
   "execution_count": 98,
   "metadata": {},
   "outputs": [],
   "source": [
    "# Fertility Rate (2017)\n",
    "wikitablescrape.scrape(\n",
    "    url='https://en.wikipedia.org/wiki/List_of_U.S._states_and_territories_by_fertility_rate',\n",
    "    output_name='fertility_rate'\n",
    ")\n",
    "df = pd.read_csv('fertility_rate/fertility_rate.csv')"
   ]
  },
  {
   "cell_type": "code",
   "execution_count": 109,
   "metadata": {},
   "outputs": [],
   "source": [
    "td = dict(zip(df.iloc[:,0],\n",
    "              df.loc[:,'TFR2017']))\n",
    "td = {k:float(v) for k,v in td.items() if v[0].isdigit() }\n",
    "state_ranks['fertility_rate17'] = td"
   ]
  },
  {
   "cell_type": "code",
   "execution_count": null,
   "metadata": {},
   "outputs": [],
   "source": []
  },
  {
   "cell_type": "code",
   "execution_count": 110,
   "metadata": {},
   "outputs": [],
   "source": [
    "# GDP per capita\n",
    "wikitablescrape.scrape(\n",
    "    url='https://en.wikipedia.org/wiki/List_of_U.S._states_by_GDP_per_capita',\n",
    "    output_name='gdp_pc'\n",
    ")\n",
    "df = pd.read_csv('gdp_pc/gdp_pc.csv')"
   ]
  },
  {
   "cell_type": "code",
   "execution_count": 114,
   "metadata": {},
   "outputs": [],
   "source": [
    "td = dict(zip(df.loc[:,'State'],\n",
    "              df.loc[:,'Rank']))\n",
    "td = {k:int(v) for k,v in td.items() if v[0].isdigit() }\n",
    "state_ranks['gdp_pc_rank'] = td"
   ]
  },
  {
   "cell_type": "code",
   "execution_count": 127,
   "metadata": {},
   "outputs": [],
   "source": [
    "td = dict(zip(df.loc[:,'State'],\n",
    "              [float(i.replace(',','')) for i in df.loc[:,'2017']]))\n",
    "state_ranks['gdp_pc'] = td"
   ]
  },
  {
   "cell_type": "code",
   "execution_count": null,
   "metadata": {},
   "outputs": [],
   "source": []
  },
  {
   "cell_type": "code",
   "execution_count": 129,
   "metadata": {},
   "outputs": [],
   "source": [
    "# Income Inequality\n",
    "wikitablescrape.scrape(\n",
    "    url='https://en.wikipedia.org/wiki/List_of_U.S._states_by_Gini_coefficient',\n",
    "    output_name='income_ineq'\n",
    ")\n",
    "df = pd.read_csv('income_ineq/income_ineq.csv')"
   ]
  },
  {
   "cell_type": "code",
   "execution_count": 143,
   "metadata": {},
   "outputs": [],
   "source": [
    "state_ranks['income_ineq'] = dict(zip(df.iloc[:,1],\n",
    "                                           [float(i.strip('.')) for i in \\\n",
    "                                            df.loc[:,'Gini Coefficient']]))\n",
    "\n",
    "state_ranks['income_ineq_rank'] = dict(zip(df.iloc[:,1],\n",
    "                                           df.loc[:,'Rank']))"
   ]
  },
  {
   "cell_type": "code",
   "execution_count": null,
   "metadata": {},
   "outputs": [],
   "source": []
  },
  {
   "cell_type": "code",
   "execution_count": 148,
   "metadata": {},
   "outputs": [],
   "source": [
    "# Population Density\n",
    "wikitablescrape.scrape(\n",
    "    url='https://en.wikipedia.org/wiki/List_of_states_and_territories_of_the_United_States_by_population_density',\n",
    "    output_name='pop_density'\n",
    ")\n",
    "df = pd.read_csv('pop_density/pop_density.csv')"
   ]
  },
  {
   "cell_type": "code",
   "execution_count": 152,
   "metadata": {},
   "outputs": [],
   "source": [
    "state_ranks['pop_dens_rank'] = dict(zip(df.iloc[:,0],\n",
    "                                        df.loc[:,'Pop. dens. Rank']))\n",
    "\n",
    "state_ranks['pop_dens_km'] = dict(zip(df.iloc[:,0],\n",
    "                                      df.loc[:,'Density (Pop./ km2)']))\n"
   ]
  },
  {
   "cell_type": "code",
   "execution_count": null,
   "metadata": {},
   "outputs": [],
   "source": []
  },
  {
   "cell_type": "code",
   "execution_count": 183,
   "metadata": {},
   "outputs": [],
   "source": [
    "# 538 Partisan Lean\n",
    "# NOTE: DC PVI imputed as same value as california (D+24), given that it is\n",
    "# heavily democratic, but cannot be directly calculated for obvious reasons\n",
    "# csv constructed by copy/paste 538 data:\n",
    "# https://github.com/fivethirtyeight/data/tree/master/partisan-lean\n",
    "\n",
    "df = pd.read_csv('pvi_538.txt')\n",
    "td = dict(zip(df['state'],\n",
    "             [abs(float(i[2:])) \\\n",
    "              if i[0]=='R'\\\n",
    "              else -abs(float(i[2:])) \\\n",
    "              for i in df['pvi_538']]))\n",
    "td['District of Columbia'] = -24.0\n",
    "state_ranks['partisan_lean'] = td"
   ]
  },
  {
   "cell_type": "code",
   "execution_count": null,
   "metadata": {},
   "outputs": [],
   "source": []
  },
  {
   "cell_type": "code",
   "execution_count": 188,
   "metadata": {},
   "outputs": [],
   "source": [
    "# Census regions\n",
    "# https://github.com/cphalpert/census-regions/\n",
    "df = pd.read_csv('us census bureau regions and divisions.csv')\n",
    "\n",
    "state_ranks['census_region'] = dict(zip(df['State'],\n",
    "                                        df['Region']))\n",
    "\n",
    "state_ranks['census_division'] = dict(zip(df['State'],\n",
    "                                          df['Division']))"
   ]
  },
  {
   "cell_type": "code",
   "execution_count": null,
   "metadata": {},
   "outputs": [],
   "source": []
  },
  {
   "cell_type": "code",
   "execution_count": 192,
   "metadata": {},
   "outputs": [],
   "source": [
    "pickle.dump(state_ranks, open('state_ranks.pickle', 'wb'))"
   ]
  },
  {
   "cell_type": "code",
   "execution_count": null,
   "metadata": {},
   "outputs": [],
   "source": []
  }
 ],
 "metadata": {
  "kernelspec": {
   "display_name": "Python 3",
   "language": "python",
   "name": "python3"
  },
  "language_info": {
   "codemirror_mode": {
    "name": "ipython",
    "version": 3
   },
   "file_extension": ".py",
   "mimetype": "text/x-python",
   "name": "python",
   "nbconvert_exporter": "python",
   "pygments_lexer": "ipython3",
   "version": "3.6.8"
  }
 },
 "nbformat": 4,
 "nbformat_minor": 2
}

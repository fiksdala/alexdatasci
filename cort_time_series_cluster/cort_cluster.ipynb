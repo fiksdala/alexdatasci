{
 "cells": [
  {
   "cell_type": "code",
   "execution_count": 11,
   "metadata": {},
   "outputs": [],
   "source": [
    "import os\n",
    "import numpy as np\n",
    "import pandas as pd"
   ]
  },
  {
   "cell_type": "code",
   "execution_count": 47,
   "metadata": {},
   "outputs": [],
   "source": [
    "dfpath = '/Users/alex/Documents/alexdatasci/data_files/' + \\\n",
    "'MIDUS_2/biomarker/DS0001/36901-0001-Data.dta'\n",
    "\n",
    "varnames = ['MRID', 'RA4BSCL1', 'RA4BSCL2', \n",
    "            'RA4BSCL3', 'RA4BSCL4', 'RA4BSCL5']\n",
    "\n",
    "df = pd.read_stata(dfpath, columns=varnames)\n",
    "\n",
    "# Drop MISSING, convert to float\n",
    "df.replace(['MISSING', 'INAPP', \"DON'T KNOW\"], np.nan, inplace=True)\n",
    "df.iloc[:,1:] = df.iloc[:,1:].astype('float')"
   ]
  },
  {
   "cell_type": "code",
   "execution_count": null,
   "metadata": {},
   "outputs": [],
   "source": []
  }
 ],
 "metadata": {
  "kernelspec": {
   "display_name": "Python 3",
   "language": "python",
   "name": "python3"
  },
  "language_info": {
   "codemirror_mode": {
    "name": "ipython",
    "version": 3
   },
   "file_extension": ".py",
   "mimetype": "text/x-python",
   "name": "python",
   "nbconvert_exporter": "python",
   "pygments_lexer": "ipython3",
   "version": "3.6.8"
  }
 },
 "nbformat": 4,
 "nbformat_minor": 2
}

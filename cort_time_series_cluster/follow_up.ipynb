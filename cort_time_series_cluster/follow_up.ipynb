{
 "cells": [
  {
   "cell_type": "code",
   "execution_count": null,
   "metadata": {},
   "outputs": [],
   "source": [
    "# RA1SA1 Rate Current Health\n",
    "# RA1PA1 Physical Health Self-Evaluated\n",
    "# RA1PA2 Mental Health Self-Evaluated\n",
    "# RA1SA11X Diabetes?\n",
    "# RA1SA11S Hypertension?\n",
    "\n",
    "# Read in MR data\n",
    "dfpath2 = '/Users/alex/Documents/alexdatasci/data_files/MIDUS_R/' + \\\n",
    "'ICPSR_36532/DS0001/36532-0001-Data.dta'\n",
    "varnames2 = ['MRID', 'RA1SA1', 'RA1PA1', \n",
    "            'RA1PA2', 'RA1SA11X', 'RA1SA11S']\n",
    "\n",
    "df2 = pd.read_stata(dfpath2, columns=varnames2)\n",
    "df2.head()\n",
    "\n",
    "to_merge = pd.DataFrame({'MRID': df.iloc[:,0],\n",
    "                         'Cluster': fcluster(link_m_c, 2, \n",
    "                                             criterion='maxclust')})\n",
    "\n",
    "mdf = df2.join(to_merge.set_index('MRID'), on='MRID', how='inner')"
   ]
  },
  {
   "cell_type": "code",
   "execution_count": null,
   "metadata": {},
   "outputs": [],
   "source": [
    "import numpy as np\n",
    "import pandas as pd\n",
    "from scipy.stats import chi2_contingency\n",
    "\n",
    "# Some fake data.\n",
    "n = 5  # Number of samples.\n",
    "d = 3  # Dimensionality.\n",
    "c = 2  # Number of categories.\n",
    "data = np.random.randint(c, size=(n, d))\n",
    "data = pd.DataFrame(data, columns=['CAT1', 'CAT2', 'CAT3'])\n",
    "\n",
    "# Contingency table.\n",
    "contingency = pd.crosstab(data['CAT1'], data['CAT2'])\n",
    "\n",
    "# Chi-square test of independence.\n",
    "c, p, dof, expected = chi2_contingency(contingency)"
   ]
  }
 ],
 "metadata": {
  "kernelspec": {
   "display_name": "Python 3",
   "language": "python",
   "name": "python3"
  },
  "language_info": {
   "codemirror_mode": {
    "name": "ipython",
    "version": 3
   },
   "file_extension": ".py",
   "mimetype": "text/x-python",
   "name": "python",
   "nbconvert_exporter": "python",
   "pygments_lexer": "ipython3",
   "version": "3.6.8"
  }
 },
 "nbformat": 4,
 "nbformat_minor": 2
}
